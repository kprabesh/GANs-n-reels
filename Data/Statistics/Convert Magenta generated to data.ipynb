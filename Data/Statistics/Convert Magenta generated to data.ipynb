{
 "cells": [
  {
   "cell_type": "code",
   "execution_count": 108,
   "metadata": {},
   "outputs": [],
   "source": [
    "import numpy as np\n",
    "from music21 import converter,instrument # or import *\n",
    "import music21 as m21\n",
    "import os"
   ]
  },
  {
   "cell_type": "code",
   "execution_count": 120,
   "metadata": {
    "scrolled": false
   },
   "outputs": [],
   "source": [
    "def get_length(duration):\n",
    "    return int(duration/0.25)\n",
    "\n",
    "def make_song(stream):\n",
    "\n",
    "    song = []\n",
    "        \n",
    "    last_note = None\n",
    "    for note in stream.recurse(classFilter=('Note','Rest')):\n",
    "        if isinstance(note, m21.note.Note):\n",
    "            song.extend([round(note.pitch.ps)]*get_length(note.duration.quarterLength))\n",
    "            last_note = note\n",
    "        else:\n",
    "            song.extend([round(last_note.pitch.ps)]*get_length(note.duration.quarterLength))\n",
    "\n",
    "    return song"
   ]
  },
  {
   "cell_type": "code",
   "execution_count": 121,
   "metadata": {},
   "outputs": [],
   "source": [
    "directory = './../../Data/Audio/magenta_basic_generated/'\n",
    "\n",
    "songs = []\n",
    "for filename in os.listdir(directory):\n",
    "    file = converter.parseFile(directory+filename)\n",
    "    songs.append(make_song(file))\n",
    "    "
   ]
  },
  {
   "cell_type": "code",
   "execution_count": 129,
   "metadata": {
    "scrolled": false
   },
   "outputs": [],
   "source": [
    "songs = np.array(songs)\n",
    "np.save('./../../Data/Experiments_Data/magenta_generated', songs)"
   ]
  },
  {
   "cell_type": "code",
   "execution_count": null,
   "metadata": {
    "scrolled": false
   },
   "outputs": [],
   "source": []
  },
  {
   "cell_type": "code",
   "execution_count": null,
   "metadata": {
    "scrolled": true
   },
   "outputs": [],
   "source": []
  },
  {
   "cell_type": "code",
   "execution_count": null,
   "metadata": {
    "scrolled": true
   },
   "outputs": [],
   "source": []
  },
  {
   "cell_type": "code",
   "execution_count": null,
   "metadata": {},
   "outputs": [],
   "source": []
  }
 ],
 "metadata": {
  "kernelspec": {
   "display_name": "Python 3",
   "language": "python",
   "name": "python3"
  },
  "language_info": {
   "codemirror_mode": {
    "name": "ipython",
    "version": 3
   },
   "file_extension": ".py",
   "mimetype": "text/x-python",
   "name": "python",
   "nbconvert_exporter": "python",
   "pygments_lexer": "ipython3",
   "version": "3.6.7"
  }
 },
 "nbformat": 4,
 "nbformat_minor": 2
}
