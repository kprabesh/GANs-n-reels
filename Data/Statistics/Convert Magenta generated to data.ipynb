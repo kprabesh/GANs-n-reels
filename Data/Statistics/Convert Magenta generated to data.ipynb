{
 "cells": [
  {
   "cell_type": "code",
   "execution_count": 13,
   "metadata": {},
   "outputs": [],
   "source": [
    "import numpy as np\n",
    "from music21 import converter,instrument, interval, pitch # or import *\n",
    "import music21 as m21\n",
    "import os"
   ]
  },
  {
   "cell_type": "code",
   "execution_count": 14,
   "metadata": {
    "scrolled": false
   },
   "outputs": [],
   "source": [
    "def get_length(duration):\n",
    "    return int(duration/0.25)\n",
    "\n",
    "def make_song(stream):\n",
    "    \n",
    "    k = stream.analyze('key')\n",
    "    i = interval.Interval(k.tonic, pitch.Pitch('D'))\n",
    "    stream = stream.transpose(i)\n",
    "\n",
    "    song = []\n",
    "        \n",
    "    last_note = None\n",
    "    for note in stream.recurse(classFilter=('Note','Rest')):\n",
    "        if isinstance(note, m21.note.Note):\n",
    "            song.extend([round(note.pitch.ps+12)]*get_length(note.duration.quarterLength))\n",
    "            last_note = note\n",
    "        else:\n",
    "            song.extend([round(last_note.pitch.ps)]*get_length(note.duration.quarterLength))\n",
    "\n",
    "    return song"
   ]
  },
  {
   "cell_type": "code",
   "execution_count": 15,
   "metadata": {},
   "outputs": [],
   "source": [
    "directory = './../../Data/Audio/magenta_basic_generated/'\n",
    "\n",
    "songs = []\n",
    "for filename in os.listdir(directory):\n",
    "    file = converter.parseFile(directory+filename)\n",
    "    songs.append(make_song(file))\n",
    "    "
   ]
  },
  {
   "cell_type": "code",
   "execution_count": 17,
   "metadata": {
    "scrolled": false
   },
   "outputs": [],
   "source": [
    "songs = np.array(songs)\n",
    "np.save('./../../Data/Experiments_Data/magenta_generated', songs)"
   ]
  },
  {
   "cell_type": "code",
   "execution_count": null,
   "metadata": {
    "scrolled": false
   },
   "outputs": [],
   "source": [
    "for fn in filenameList:\n",
    "    s = converter.parse(fn)\n",
    "    k = s.analyze('key')\n",
    "    i = interval.Interval(k.tonic, pitch.Pitch('C'))\n",
    "    sNew = s.transpose(i)"
   ]
  },
  {
   "cell_type": "code",
   "execution_count": 12,
   "metadata": {
    "scrolled": true
   },
   "outputs": [
    {
     "data": {
      "text/plain": [
       "array([62, 62, 62, 62, 62, 62, 62, 62, 62, 62, 62, 62, 61, 61, 61, 61, 66,\n",
       "       66, 66, 66, 66, 66, 66, 66, 62, 62, 62, 62, 61, 61, 61, 61, 66, 66,\n",
       "       66, 66, 67, 67, 67, 67, 62, 62, 62, 62, 59, 59, 59, 59, 61, 61, 61,\n",
       "       61, 61, 61, 61, 61, 62, 62, 62, 62, 66, 66, 66, 66, 67, 67, 67, 67,\n",
       "       66, 66, 66, 66, 69, 69, 69, 69, 69, 69, 69, 69, 74, 74, 74, 74, 69,\n",
       "       69, 69, 69, 71, 71, 71, 71, 69, 69, 69, 69, 67, 67, 67, 67, 62, 62,\n",
       "       62, 62, 62, 62, 62, 62, 62, 62, 62, 62, 67, 67, 67, 67, 71, 71, 71,\n",
       "       71, 73, 73, 73, 73, 73, 73, 73, 73, 74, 74, 74, 74, 74, 74, 74, 74,\n",
       "       71, 71, 71, 71, 67, 67, 67, 67, 62, 62, 62, 62, 66, 66, 66, 66, 67,\n",
       "       67, 67, 67, 67, 67, 67, 67, 67, 67, 67, 67, 67, 67, 67, 67, 66, 66,\n",
       "       66, 66, 69, 69, 69, 69, 67, 67, 67, 67, 67, 67, 67, 67, 62, 62, 62,\n",
       "       62, 61, 61, 61, 61, 61, 61, 61, 61, 66, 66, 66, 66, 62, 62, 62, 62,\n",
       "       62, 62, 62, 62, 66, 66, 66, 66, 61, 61, 61, 61, 57, 57, 57, 57, 61,\n",
       "       61, 61, 61, 67, 67, 67, 67, 74, 74, 74, 74, 78, 78, 78, 78, 78, 78,\n",
       "       78, 78, 81, 81, 81, 81, 81, 81, 81, 81, 78, 78, 78, 78, 74, 74, 74,\n",
       "       74])"
      ]
     },
     "execution_count": 12,
     "metadata": {},
     "output_type": "execute_result"
    }
   ],
   "source": [
    "songs[0]"
   ]
  },
  {
   "cell_type": "code",
   "execution_count": null,
   "metadata": {
    "scrolled": true
   },
   "outputs": [],
   "source": []
  },
  {
   "cell_type": "code",
   "execution_count": null,
   "metadata": {},
   "outputs": [],
   "source": []
  }
 ],
 "metadata": {
  "kernelspec": {
   "display_name": "Python 3",
   "language": "python",
   "name": "python3"
  },
  "language_info": {
   "codemirror_mode": {
    "name": "ipython",
    "version": 3
   },
   "file_extension": ".py",
   "mimetype": "text/x-python",
   "name": "python",
   "nbconvert_exporter": "python",
   "pygments_lexer": "ipython3",
   "version": "3.6.7"
  }
 },
 "nbformat": 4,
 "nbformat_minor": 2
}
