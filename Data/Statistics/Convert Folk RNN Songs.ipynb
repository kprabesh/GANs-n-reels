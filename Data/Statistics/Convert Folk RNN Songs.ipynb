{
 "cells": [
  {
   "cell_type": "markdown",
   "metadata": {},
   "source": [
    "## Convert Folk RNN samples to vectors"
   ]
  },
  {
   "cell_type": "code",
   "execution_count": 26,
   "metadata": {},
   "outputs": [],
   "source": [
    "songs = []\n",
    "with open('./../../Data/Experiments_Data/folk_rnn_abc.txt', 'r') as f:\n",
    "    data = f.readlines()\n",
    "    for i in range(len(data)):\n",
    "        if (i - 4) % 5 == 0:\n",
    "            songs.append(data[i].split(\"DMaj\",1)[1])"
   ]
  },
  {
   "cell_type": "code",
   "execution_count": 51,
   "metadata": {},
   "outputs": [],
   "source": [
    "def clean(s):\n",
    "    \"\"\" Remove unwanted chars\"\"\"\n",
    "    bad_chars = '|: 1>()/z_=<^'\n",
    "    for c in bad_chars: \n",
    "        s = s.replace(c, \"\")\n",
    "    return s\n",
    "\n",
    "def remove_nums(s):\n",
    "    \"\"\" Explicitly convert numbers to chars\"\"\"\n",
    "    new_s = []\n",
    "    temp = s[0]\n",
    "    for i in range(1, len(s)):\n",
    "        if s[i].isalpha():\n",
    "            new_s.append(temp)\n",
    "            temp = s[i]\n",
    "        elif s[i].isdigit():\n",
    "            temp_arr = [temp]*(int(s[i]))\n",
    "            new_s.extend(temp_arr)\n",
    "            temp = ''\n",
    "        else:\n",
    "            temp += s[i]\n",
    "    return new_s\n",
    "\n",
    "def convert_8ths_to_16ths(lst):\n",
    "    new_lst = []\n",
    "    for x in lst:\n",
    "        if x == '':\n",
    "            continue\n",
    "        new_lst.append(x)\n",
    "        new_lst.append(x)\n",
    "    return new_lst\n",
    "    \n",
    "def convert_to_DMaj(s):\n",
    "    \"\"\" Convert C-Major to D-Major \"\"\"\n",
    "    c_to_d = {\n",
    "        'C':'D',\n",
    "        'D':'E',\n",
    "        'E':'F',\n",
    "        'F':'G',\n",
    "        'G':'a',\n",
    "        'A':'B',\n",
    "        'B':'C',\n",
    "        'c':'d',\n",
    "        'd':'e',\n",
    "        'e':'f',\n",
    "        'f':'g',\n",
    "        'g':'a\\'',\n",
    "        'a':'b',\n",
    "        'b':'c',\n",
    "        'C,':'D,',\n",
    "        'D,':'E,',\n",
    "        'E,':'F,',\n",
    "        'F,':'G,',\n",
    "        'G,':'A',\n",
    "        'A,':'B,',\n",
    "        'B,':'C,',\n",
    "        'c\\'':'d\\'',\n",
    "        'd\\'':'e\\'',\n",
    "        'e\\'':'f\\'',\n",
    "        'f\\'':'g\\'',\n",
    "        'g\\'':'a\\'\\'',\n",
    "        'a\\'':'b\\'',\n",
    "        'b\\'':'c\\'',        \n",
    "    }\n",
    "    return [c_to_d[x] for x in s]\n",
    "    \n",
    "def convert_to_notes(song):\n",
    "    \"\"\" Convert chars to midi notes\"\"\"\n",
    "    chars_as_num = {\n",
    "    'E,':53,\n",
    "    'F,': 54,\n",
    "    'G,': 55,\n",
    "    'A,': 57,\n",
    "    'A#,':58,\n",
    "    'B,': 59,\n",
    "    'C': 61,\n",
    "    'D': 62,\n",
    "    'D#':63,\n",
    "    'E': 64,\n",
    "    'E#':65,\n",
    "    'F': 66,\n",
    "    'G': 67,\n",
    "    'A': 69,\n",
    "    'A#':70,\n",
    "    'B': 71,\n",
    "    'B#': 72,\n",
    "    'B#\\'':72,\n",
    "    'c': 73,\n",
    "    'd': 74,\n",
    "    'd#':75,\n",
    "    'e': 76,\n",
    "    'e#':77,\n",
    "    'f': 78,\n",
    "    'g': 79,\n",
    "    'a': 81,\n",
    "    'b': 83,\n",
    "    'c\\'': 85,\n",
    "    'd\\'': 86,\n",
    "    'e\\'': 88,\n",
    "    'f\\'': 90,\n",
    "    'g\\'':91,\n",
    "    'a\\'':93,\n",
    "    'b\\'':95,\n",
    "    }\n",
    "    return [chars_as_num[x] for x in song if x != '']\n"
   ]
  },
  {
   "cell_type": "code",
   "execution_count": 57,
   "metadata": {},
   "outputs": [],
   "source": [
    "import numpy as np\n",
    "\n",
    "def process(all_songs):\n",
    "    \"\"\" Do the entire process - only keep songs that are 64 in length\"\"\"\n",
    "    vectors = []\n",
    "    for song in all_songs:\n",
    "        updated_song = convert_to_notes(remove_nums(clean(song)))\n",
    "        if len(updated_song) == 256:\n",
    "            vectors.append(np.array(updated_song))\n",
    "        elif 270 > len(updated_song) > 256:\n",
    "            vectors.append(np.array(updated_song[:256]))\n",
    "        elif 240 < len(updated_song) < 256:\n",
    "            elem = updated_song[-1]\n",
    "            updated_song.extend([elem]*(256-len(updated_song)))\n",
    "            #print(updated_song)\n",
    "            vectors.append(np.array(updated_song))\n",
    "    return np.array(vectors)"
   ]
  },
  {
   "cell_type": "code",
   "execution_count": 58,
   "metadata": {},
   "outputs": [
    {
     "name": "stdout",
     "output_type": "stream",
     "text": [
      "(811, 256)\n"
     ]
    }
   ],
   "source": [
    "lst = process(songs)\n",
    "print (lst.shape)"
   ]
  },
  {
   "cell_type": "code",
   "execution_count": 59,
   "metadata": {},
   "outputs": [],
   "source": [
    "np.save('./../Experiments_Data/folkRnn_data',lst)"
   ]
  },
  {
   "cell_type": "code",
   "execution_count": 385,
   "metadata": {},
   "outputs": [
    {
     "data": {
      "text/plain": [
       "numpy.ndarray"
      ]
     },
     "execution_count": 385,
     "metadata": {},
     "output_type": "execute_result"
    }
   ],
   "source": [
    "type(lst[0])"
   ]
  },
  {
   "cell_type": "code",
   "execution_count": 11,
   "metadata": {},
   "outputs": [
    {
     "data": {
      "text/plain": [
       "\" b2e2e4B2e2f2e2|d4d2e2d2B2A4|B2d2e2f2g2f2g2a2|b2B#'2d'2b2a4a2||b2e2e4B2e2f2e2|d4d2e2d2B2A4|B2d2e2f2g2f2g2a2|b2B#'2d'2b2a4a2||b2d'2d'4b2d'2d'4|b2e'2e'4b2e'2e'4|b2d'2d'4b2d'2d'4|e'2b2d'2b2a4f2a2||b2d'2d'4b2d'2d'4|b2e'2e'4b2e'2e'2d'2|b4b2a2a2b2d'2e'2|b2d'2b2a2a2f2a2\\n\""
      ]
     },
     "execution_count": 11,
     "metadata": {},
     "output_type": "execute_result"
    }
   ],
   "source": [
    "songs[1]"
   ]
  },
  {
   "cell_type": "code",
   "execution_count": null,
   "metadata": {},
   "outputs": [],
   "source": []
  }
 ],
 "metadata": {
  "kernelspec": {
   "display_name": "Python 3",
   "language": "python",
   "name": "python3"
  },
  "language_info": {
   "codemirror_mode": {
    "name": "ipython",
    "version": 3
   },
   "file_extension": ".py",
   "mimetype": "text/x-python",
   "name": "python",
   "nbconvert_exporter": "python",
   "pygments_lexer": "ipython3",
   "version": "3.6.7"
  }
 },
 "nbformat": 4,
 "nbformat_minor": 2
}
