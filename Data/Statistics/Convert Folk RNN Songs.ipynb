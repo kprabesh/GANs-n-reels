{
 "cells": [
  {
   "cell_type": "markdown",
   "metadata": {},
   "source": [
    "## Convert Folk RNN samples to vectors"
   ]
  },
  {
   "cell_type": "code",
   "execution_count": 106,
   "metadata": {},
   "outputs": [],
   "source": [
    "songs = \\\n",
    "[ \n",
    "    '|:cBAG EFG2|ABcA GEC2|F2EF DEF2|EDCE F2E2|cBAG EFG2|ABcA GEC2|FEFG AGEC|DEFD C4:| |:EFGA BGAB|cBcd ecGE|F2AF EFGE|FEDC D2GF EFGA BGAB|cBcd ecGF|EFGA BGF2|DFED C4:|',\n",
    "    '|:e2dc ecdc|AFEF DCDF|EGAG cGAc|Fdcd dcAG|e2dc ecdc|AGAF ECDF|EGAG FAcf|ecdB c2c2:||:egg2 afge|cedc Bcdf|efge fedc|AGAB cdcB|c3d cBAG|EGAB cdeg|f3g fedc|BcdB c2c2:|',\n",
    "    '|c\\' 2 c\\' b a g a g | e g g e d 2 c d | e 2 e g a c\\' g e | d c d e c 2 :| g c\\' | c\\' 2 g a c\\' 2 a c\\' | g c\\' g a c e e d | c 2 c\\' a g g a b | c\\' a g e d 2 :|',\n",
    "    'C E G c B c | A G F E D C | C E G c B c | d B G A G F | C E G c B c | A G F E D C | C 2 E G F E | D E C C 3 :| |: g e g f d f | e c e d B G | c B c G E G | B c A G E C | e g e f d f | e c d B G F | G E G F A F | E G E C 2 C :|',\n",
    "    'C 2 E C E C G, 2 | B 2 B D B, G, D B, | C 2 E C E G C E | D C B, C D C C 2 :| C 2 E C G C E C | F 2 D B, B, D G, B, | C 2 E C G C E C | F D D C B, C G, B, | C 2 E C G C E C | F 2 D F B, D F D | E C G C E C G E | F D B, D C 2 |',\n",
    "    '|: G 2 | c 2 G F E 2 C E | D 2 G 2 E 2 C 2 | E 2 G E F 2 D 2 | E 2 C 2 C 2 :| |: c 2 | E G C E G 2 E G | G 2 F 2 A 2 D 2 | F E D C B 2 G 2 | A 2 G 2 E 2 D 2 | C E G C E 2 G 2 | C 2 E F G 2 G 2 | A 2 A 2 G 2 E 2 | D 4 C 2 :|',\n",
    "    'c |: G 2 G F E C C 2 | G c c B c d c A | G 2 G F E C C f | e c d B G A A 2 | G 2 c B G C C 2 | G c e c d c c 2 | G c c A G E E 2 | F E D E C 4 :| |: E F G A G E E 2 | c 2 B c d e e d | c B c A G 2 E E | E 2 G E D E D F | E F G A G E E 2 | c e d c B c G 2 | A F F 2 G E E 2 | G 2 d g e c c 2 :|',\n",
    "    '|: E C E C E G G 2 | c 2 e c d c A c | E C E C E 2 G 2 | c A G E D F E D | C E E 2 C 2 E G | c G e c d e e f | g e c e f 2 a f | f e d c d c A 2 :| |: c G A F G F E F | G c c B c 2 c d | e c c B G F E G | A d d c d e f d | e f g e f e d c | G c c B c d e f | g e f d e c d B | c A G E F 2 G F :|',\n",
    "    '|: G F | E 2 G E C E G E | F A d c B G A B | c 2 G E C E G E | F G A B c A G F | E 2 G E C E G E | F A F D D E F D | E A A G E 3 F | G A B d c 2 :| |: E F | G c c B c 3 B | c d e c d 2 B G | c B c d e g e c | d e d c B G G E | G c c B c 2 G 2 | c d c B G A B c | d c B c d e f d | e c c B c 2 :|',\n",
    "    '|:G,|C2C2 C2E2|DEDC A,2G,2|E2ED E2E2| DEDC A,2G,2|C2C2 E2E2|DEDC A,2G,2|E2E2 D2E2| DCD2 C2:||:EF|G2G2 G2AB|c2B2 A2B2| c2B2 A2G2|A2A2 G2E2|G2G2 G2AB|c2B2 A2G2| c2B2 A2G2|E2D2 CD:',\n",
    "    'ABcGE C2CE|FEDE FGAB|cdcG E2CE|DFEC DCA,G,|ABcA GECE|FEDC B,DG,F|GFEC DFED|CEDB, C2EG|cGEE cEE2|c2Bd cAGE|FDFG EFDE|FEDC DGFD|G,CEG cEGE|CEGc AFDE|CEFD GABc|AFDB, C2cB|',\n",
    "    'G2EC GCEC|D2DE F2EF|GEFA GECE|DB,B,D CCEF| G2EC GCEC|D2EF D2B,D|C2EC GCEG|FEDE C2GA| B2Ac BGAG|FEDE FGAc|B2BG ABcd|ecdB c3A|B2cA BGAG|FEDE FGAB|cBcd c2BA|GAGE cEFG:|',        \n",
    "    '|:Gcc2 Acce|dcde fdAF|Gcc2 AcGF| GFDF ECCA|Gcc2 Acce|dcde fdAB|cAA2 GFEF| GFED CCCA:||:GccB c2cd|efge fagf|ecdB c2Bc| AGAF AccF|GccB c2cd|efge fedf|edcB AGFA| GFED CDDC:|'\n",
    "]"
   ]
  },
  {
   "cell_type": "code",
   "execution_count": 125,
   "metadata": {},
   "outputs": [],
   "source": [
    "def clean(s):\n",
    "    \"\"\" Remove unwanted chars\"\"\"\n",
    "    bad_chars = '|: 1'\n",
    "    for c in bad_chars: \n",
    "        s = s.replace(c, \"\")\n",
    "    return s\n",
    "\n",
    "def remove_nums(s):\n",
    "    \"\"\" Explicitly convert numbers to chars and convert 8ths to 16ths\"\"\"\n",
    "    new_s = ''\n",
    "    for i in range(len(s)):\n",
    "        if s[i].isdigit():\n",
    "            new_s += s[i-1]*(int(s[i])-1)\n",
    "        else:\n",
    "            new_s += s[i]\n",
    "    return new_s\n",
    "\n",
    "def convert_8ths_to_16ths(s):\n",
    "    return \"\".join([x*2 for x in s])\n",
    "    \n",
    "def convert_to_DMaj(s):\n",
    "    \"\"\" Convert C-Major to D-Major \"\"\"\n",
    "    c_to_d = {\n",
    "        'C':'D',\n",
    "        'D':'E',\n",
    "        'E':'F',\n",
    "        'F':'G',\n",
    "        'G':'A',\n",
    "        'A':'B',\n",
    "        'B':'C',\n",
    "        'c':'d',\n",
    "        'd':'e',\n",
    "        'e':'f',\n",
    "        'f':'g',\n",
    "        'g':'a',\n",
    "        'a':'b',\n",
    "        'b':'c',\n",
    "    }\n",
    "    return [c_to_d[x] for x in s if x in c_to_d]\n",
    "    \n",
    "def convert_to_notes(song):\n",
    "    \"\"\" Convert chars to midi notes\"\"\"\n",
    "    chars_as_num = {\n",
    "    'F,': 54,\n",
    "    'G,': 55,\n",
    "    'A,': 57,\n",
    "    'B,': 59,\n",
    "    'C': 61,\n",
    "    'D': 62,\n",
    "    'E': 64,\n",
    "    'F': 66,\n",
    "    'G': 67,\n",
    "    'A': 69,\n",
    "    'B': 71,\n",
    "    'c': 73,\n",
    "    'd': 74,\n",
    "    'e': 76,\n",
    "    'f': 78,\n",
    "    'g': 79,\n",
    "    'a': 81,\n",
    "    'b': 83,\n",
    "    'c\\'': 85,\n",
    "    'd\\'': 86,\n",
    "    'e\\'': 88,\n",
    "    'f\\'': 90\n",
    "    }\n",
    "    return [chars_as_num[x] for x in song]\n"
   ]
  },
  {
   "cell_type": "code",
   "execution_count": 126,
   "metadata": {},
   "outputs": [],
   "source": [
    "import numpy as np\n",
    "\n",
    "def process(all_songs):\n",
    "    \"\"\" Do the entire process - only keep songs that are 64 in length\"\"\"\n",
    "    vectors = []\n",
    "    for song in all_songs:\n",
    "        updated_song = convert_to_notes(convert_to_DMaj(convert_8ths_to_16ths(remove_nums(clean(song)))))\n",
    "        print(len(updated_song))\n",
    "        if len(updated_song) == 256:\n",
    "            vectors.append(updated_song)\n",
    "    return np.array(vectors)"
   ]
  },
  {
   "cell_type": "code",
   "execution_count": 127,
   "metadata": {},
   "outputs": [
    {
     "name": "stdout",
     "output_type": "stream",
     "text": [
      "256\n",
      "256\n",
      "118\n",
      "192\n",
      "186\n",
      "192\n",
      "258\n",
      "256\n",
      "256\n",
      "242\n",
      "258\n",
      "256\n",
      "256\n"
     ]
    }
   ],
   "source": [
    "lst = process(songs)"
   ]
  },
  {
   "cell_type": "code",
   "execution_count": 128,
   "metadata": {},
   "outputs": [],
   "source": [
    "np.save('./../Experiments_Data/folkRnn_data',lst)"
   ]
  },
  {
   "cell_type": "code",
   "execution_count": null,
   "metadata": {},
   "outputs": [],
   "source": []
  },
  {
   "cell_type": "code",
   "execution_count": null,
   "metadata": {},
   "outputs": [],
   "source": []
  },
  {
   "cell_type": "code",
   "execution_count": null,
   "metadata": {},
   "outputs": [],
   "source": []
  }
 ],
 "metadata": {
  "kernelspec": {
   "display_name": "Python 3",
   "language": "python",
   "name": "python3"
  },
  "language_info": {
   "codemirror_mode": {
    "name": "ipython",
    "version": 3
   },
   "file_extension": ".py",
   "mimetype": "text/x-python",
   "name": "python",
   "nbconvert_exporter": "python",
   "pygments_lexer": "ipython3",
   "version": "3.6.7"
  }
 },
 "nbformat": 4,
 "nbformat_minor": 2
}
