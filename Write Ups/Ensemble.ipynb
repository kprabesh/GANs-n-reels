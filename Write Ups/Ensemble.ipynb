{
 "cells": [
  {
   "cell_type": "markdown",
   "metadata": {},
   "source": [
    "<center> <h1> GANs-N-Reels</h1>\n",
    "<i> Creating Irish Music using a Generative Adversarial Neural Network</i>\n",
    "    \n",
    "<h4> By Kolokolova, Antonina; Billard, Mitchell; Bishop, Robert; Graves, Caleb; Elsisy, Moustafa; \n",
    "Nagisetty, Vineel; and Northcott, Zachary </h4> </center>"
   ]
  },
  {
   "cell_type": "code",
   "execution_count": null,
   "metadata": {
    "collapsed": true
   },
   "outputs": [
    {
     "data": {
      "text/html": [
       "<script>\n",
       "code_show=true; \n",
       "function code_toggle() {\n",
       " if (code_show){\n",
       " $('div.input').hide();\n",
       " } else {\n",
       " $('div.input').show();\n",
       " }\n",
       " code_show = !code_show\n",
       "} \n",
       "$( document ).ready(code_toggle);\n",
       "</script>\n",
       "Note: The raw code for this IPython notebook is by default hidden for easier reading.\n",
       "To run the data and generate plots again, select Cell and click on Run All.\n",
       "To toggle on/off the raw code, click <a href=\"javascript:code_toggle()\">here</a>."
      ],
      "text/plain": [
       "<script>\n",
       "code_show=true; \n",
       "function code_toggle() {\n",
       " if (code_show){\n",
       " $('div.input').hide();\n",
       " } else {\n",
       " $('div.input').show();\n",
       " }\n",
       " code_show = !code_show\n",
       "} \n",
       "$( document ).ready(code_toggle);\n",
       "</script>\n",
       "Note: The raw code for this IPython notebook is by default hidden for easier reading.\n",
       "To run the data and generate plots again, select Cell and click on Run All.\n",
       "To toggle on/off the raw code, click <a href=\"javascript:code_toggle()\">here</a>."
      ]
     },
     "execution_count": 5,
     "metadata": {},
     "output_type": "execute_result"
    }
   ],
   "source": [
    "from IPython.display import HTML\n",
    "\n",
    "HTML('''<script>\n",
    "code_show=true; \n",
    "function code_toggle() {\n",
    " if (code_show){\n",
    " $('div.input').hide();\n",
    " } else {\n",
    " $('div.input').show();\n",
    " }\n",
    " code_show = !code_show\n",
    "} \n",
    "$( document ).ready(code_toggle);\n",
    "</script>\n",
    "Note: The raw code for this IPython notebook is by default hidden for easier reading.\n",
    "To run the data and generate plots again, select Cell and click on Run All.\n",
    "To toggle on/off the raw code, click <a href=\"javascript:code_toggle()\">here</a>.''')"
   ]
  },
  {
   "cell_type": "markdown",
   "metadata": {},
   "source": [
    "### Abstract ###\n",
    "\n",
    "<details> \n",
    "\n",
    "<summary> \n",
    "This abstract details the motivation behind our project, a brief background on GANs and Irish music, and our research approach.\n",
    "<i>(Click to expand)</i>\n",
    "</summary>\n",
    "\n",
    "<h3> Motivation: </h3>\n",
    "\n",
    "Our research aims to discover if successful AI image generative models can also be used to generate music. We plan to use a Generative Adversarial Network, a particular type of Artificial Neural Network, in an attempt to generate Irish music. \n",
    "\n",
    "Irish music, as one of the primary influences on traditional Newfoundland music, tends toward straightforward melodies with a fixed format. It is a style intended to be played with a single instrument by amateur musicians, resulting in notation that is simple and easy to follow. These unique qualities are the primary motivation for choosing Irish music as our target.\n",
    "\n",
    "<h3> Background and Related Work: </h3> \n",
    "\n",
    "An Artificial Neural Network, or ANN, is based on a collection of connected units called nodes. These nodes can be loosely compared to neurons in the human brain with respect to their interconnectedness and influence on their neighbors. There are various types of ANNs, many of which have been successfully used to classify, predict, and generate different types of data. Recently, a UK-based team has used a Recurrent Neural Network (RNN) to generate music, and another team from Google Brain has generated music using a Long-Short Term Memory RNN. An important fact to consider is that these two models do not generate music \n",
    "from random noise; they generate music from a small sequence of notes, and ‘predict’ what should come next.  \n",
    " \n",
    "A Generative Adversarial Network, or a GAN, is an ANN consisting of a Generator that generates data when fed noise, and a Discriminator which classifies data. A common analogy is the Generator is akin to an art forger, while the Discriminator is like a detective. The analogy is useful as, after being trained, the Generator can be used to create original ‘art’. GANs have worked well with pictures, but to our knowledge there has not been a successful attempt to generate music using GANs.  \n",
    "\n",
    "<h3> Research Approach: </h3>\n",
    "\n",
    "We hope to use the distinctive structure of Irish tunes to make them suitable for GAN-based music generation. Our main idea is to regard an Irish melody as a fixed-size object with cross-references among its parts: “music as a picture” view. The two key components of this project are:\n",
    "\n",
    "1. Preprocessing:  \n",
    "    - Creating a well-defined format for music encoding suitable for GANs \n",
    "    - Representing “vertical” dependencies in the tunes \n",
    "2. Modifying GANs for improved performance via: \n",
    "    - Statistical “Bagging” and “Boosting” to mimic the full input distribution \n",
    "    - Modifying training rate to avoid “Mode Collapse”\n",
    " \n",
    "<h3> Novelty: </h3>\n",
    "\n",
    "Though there are RNN-based Irish music generators, we found no GANs which successfully generated music. Unlike RNNs, GANs could truly generate music from scratch, rather than using prediction. To our knowledge, no one has presented the idea of organizing \n",
    "music like a picture, which makes our encoding unique. \n",
    "\n",
    "<h3> Results and Contributions: </h3>\n",
    "\n",
    "Our code and the results will be uploaded to an online repository for public access [here](https://github.com/vin-nag/GANs-n-reels). \n",
    "</details>\n",
    "\n",
    "\n"
   ]
  },
  {
   "cell_type": "markdown",
   "metadata": {},
   "source": [
    "### Notable Existing Works ###\n",
    "\n",
    "<details> \n",
    "\n",
    "<summary> \n",
    "This goes over existing projects similar to our own. \n",
    "<i>(Click to expand)</i>\n",
    "</summary>\n",
    "\n",
    "<h3> Folk-RNN [(link)](https://folkrnn.org/)</h3>\n",
    "\n",
    "Folk-rnn is a project by Iryna Korshunova, Oded Ben-Tal and Bob Sturm. This project is funded by the UK Arts and Humanities Research Council. The authors have used Long Short Term Memory based Recurrent Neural Networks (found [here](https://github.com/IraKorshunova/folk-rnn) ) \n",
    "\n",
    "They have primarily used data from The Sessions. Interestingly, they have provided a tool on their website where you can generate a folk tune with an rnn in real time. They have published multiple papers on their work. (found [here](https://github.com/IraKorshunova/folk-rnn))\n",
    "\n",
    "\n",
    "<h3> Neural Irish Tunes [(link)](http://irishabc.com/) </h3> \n",
    "\n",
    "The author used Recurrent Neural Networks (Torch-RNN: [link](https://github.com/jcjohnson/torch-rnn)) to\n",
    "generate Irish music. He/She used the session database. All songs were transposed to the same scale (D). Used 3 parameters as variables neural network size, dropout, number of layers). Once files were generated through RNN, all tunes were played and best ones collected and cleaned.\n",
    "\n",
    "\n",
    "<h3> Music Composition using recurrent Neural Networks [(link)](https://web.stanford.edu/class/cs224n/reports/2762076.pdf) </h3>\n",
    "\n",
    "Nipun Agarwala, Yuki Inoue and Axel Sly have published a paper on music composition using different types of Neural Networks. They have used the same ABC music notation and encoding scheme. The types of Neural Networks used were: Continuous Bag-Of-Words, Character RNN, Sequence-to-Sequence, and Generative Adversarial Networks. They found Sequence-to-Sequence generated the best music in their case. More Information: [here](https://github.com/yinoue93/CS224N_proj)\n",
    " \n",
    "</details>\n",
    "\n",
    "\n"
   ]
  },
  {
   "cell_type": "code",
   "execution_count": null,
   "metadata": {},
   "outputs": [],
   "source": []
  }
 ],
 "metadata": {
  "kernelspec": {
   "display_name": "Python 2",
   "language": "python",
   "name": "python2"
  },
  "language_info": {
   "codemirror_mode": {
    "name": "ipython",
    "version": 2
   },
   "file_extension": ".py",
   "mimetype": "text/x-python",
   "name": "python",
   "nbconvert_exporter": "python",
   "pygments_lexer": "ipython2",
   "version": "2.7.6"
  }
 },
 "nbformat": 4,
 "nbformat_minor": 0
}
