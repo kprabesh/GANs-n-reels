{
 "cells": [
  {
   "cell_type": "markdown",
   "metadata": {},
   "source": [
    "<center> <h1> GANs-N-Reels</h1>\n",
    "<i> Creating Irish Music using a Generative Adversarial Neural Network</i>\n",
    "    \n",
    "<h4> By Kolokolova, Antonina; Billard, Mitchell; Bishop, Robert; Graves, Caleb; Elsisy, Moustafa; \n",
    "Nagisetty, Vineel; and Northcott, Zachary </h4> </center>"
   ]
  },
  {
   "cell_type": "code",
   "execution_count": 36,
   "metadata": {},
   "outputs": [
    {
     "data": {
      "text/html": [
       "<script>\n",
       "code_show=true; \n",
       "function code_toggle() {\n",
       " if (code_show){\n",
       " $('div.input').hide();\n",
       " } else {\n",
       " $('div.input').show();\n",
       " }\n",
       " code_show = !code_show\n",
       "} \n",
       "$( document ).ready(code_toggle);\n",
       "</script>\n",
       "Note: The raw code for this IPython notebook is by default hidden for easier reading.\n",
       "To run the data and generate plots again, select Cell and click on Run All.\n",
       "To toggle on/off the raw code, click <a href=\"javascript:code_toggle()\">here</a>."
      ],
      "text/plain": [
       "<IPython.core.display.HTML object>"
      ]
     },
     "execution_count": 36,
     "metadata": {},
     "output_type": "execute_result"
    }
   ],
   "source": [
    "from IPython.display import HTML\n",
    "\n",
    "HTML('''<script>\n",
    "code_show=true; \n",
    "function code_toggle() {\n",
    " if (code_show){\n",
    " $('div.input').hide();\n",
    " } else {\n",
    " $('div.input').show();\n",
    " }\n",
    " code_show = !code_show\n",
    "} \n",
    "$( document ).ready(code_toggle);\n",
    "</script>\n",
    "Note: The raw code for this IPython notebook is by default hidden for easier reading.\n",
    "To run the data and generate plots again, select Cell and click on Run All.\n",
    "To toggle on/off the raw code, click <a href=\"javascript:code_toggle()\">here</a>.''')"
   ]
  },
  {
   "cell_type": "markdown",
   "metadata": {},
   "source": [
    "## Abstract ##\n",
    "\n",
    "<details> \n",
    "\n",
    "<summary> \n",
    "This abstract details the motivation behind our project, a brief background on GANs and Irish music, and our research approach.\n",
    "<i>(Click to expand)</i>\n",
    "</summary>\n",
    "\n",
    "<h4> Motivation: </h4>\n",
    "\n",
    "Our research aims to discover if successful AI image generative models can also be used to generate music. We plan to use a Generative Adversarial Network, a particular type of Artificial Neural Network, in an attempt to generate Irish music. \n",
    "\n",
    "Irish music, as one of the primary influences on traditional Newfoundland music, tends toward straightforward melodies with a fixed format. It is a style intended to be played with a single instrument by amateur musicians, resulting in notation that is simple and easy to follow. These unique qualities are the primary motivation for choosing Irish music as our target.\n",
    "\n",
    "<h3> Background and Related Work: </h3> \n",
    "\n",
    "An Artificial Neural Network, or ANN, is based on a collection of connected units called nodes. These nodes can be loosely compared to neurons in the human brain with respect to their interconnectedness and influence on their neighbors. There are various types of ANNs, many of which have been successfully used to classify, predict, and generate different types of data. Recently, a UK-based team has used a Recurrent Neural Network (RNN) to generate music, and another team from Google Brain has generated music using a Long-Short Term Memory RNN. An important fact to consider is that these two models do not generate music \n",
    "from random noise; they generate music from a small sequence of notes, and ‘predict’ what should come next.  \n",
    " \n",
    "A Generative Adversarial Network, or a GAN, is an ANN consisting of a Generator that generates data when fed noise, and a Discriminator which classifies data. A common analogy is the Generator is akin to an art forger, while the Discriminator is like a detective. The analogy is useful as, after being trained, the Generator can be used to create original ‘art’. GANs have worked well with pictures, but to our knowledge there has not been a successful attempt to generate music using GANs.  \n",
    "\n",
    "<h3> Research Approach: </h3>\n",
    "\n",
    "We hope to use the distinctive structure of Irish tunes to make them suitable for GAN-based music generation. Our main idea is to regard an Irish melody as a fixed-size object with cross-references among its parts: “music as a picture” view. The two key components of this project are:\n",
    "\n",
    "1. Preprocessing:  \n",
    "    - Creating a well-defined format for music encoding suitable for GANs \n",
    "    - Representing “vertical” dependencies in the tunes \n",
    "2. Modifying GANs for improved performance via: \n",
    "    - Statistical “Bagging” and “Boosting” to mimic the full input distribution \n",
    "    - Modifying training rate to avoid “Mode Collapse”\n",
    " \n",
    "<h3> Novelty: </h3>\n",
    "\n",
    "Though there are RNN-based Irish music generators, we found no GANs which successfully generated music. Unlike RNNs, GANs could truly generate music from scratch, rather than using prediction. To our knowledge, no one has presented the idea of organizing \n",
    "music like a picture, which makes our encoding unique. \n",
    "\n",
    "<h3> Results and Contributions: </h3>\n",
    "\n",
    "Our code and the results will be uploaded to an online repository for public access [here](https://github.com/vin-nag/GANs-n-reels). \n",
    "</details>\n",
    "\n",
    "\n"
   ]
  },
  {
   "cell_type": "markdown",
   "metadata": {},
   "source": [
    "## Notable Existing Works ##\n",
    "\n",
    "<details> \n",
    "\n",
    "<summary> \n",
    "This goes over existing projects similar to our own. \n",
    "<i>(Click to expand)</i>\n",
    "</summary>\n",
    "\n",
    "<h3> Folk-RNN [(link)](https://folkrnn.org/)</h3>\n",
    "\n",
    "Folk-rnn is a project by Iryna Korshunova, Oded Ben-Tal and Bob Sturm. This project is funded by the UK Arts and Humanities Research Council. The authors have used Long Short Term Memory based Recurrent Neural Networks (found [here](https://github.com/IraKorshunova/folk-rnn) ) \n",
    "\n",
    "They have primarily used data from The Sessions. Interestingly, they have provided a tool on their website where you can generate a folk tune with an rnn in real time. They have published multiple papers on their work. (found [here](https://github.com/IraKorshunova/folk-rnn))\n",
    "\n",
    "\n",
    "<h3> Neural Irish Tunes [(link)](http://irishabc.com/) </h3> \n",
    "\n",
    "The author used Recurrent Neural Networks (Torch-RNN: [link](https://github.com/jcjohnson/torch-rnn)) to\n",
    "generate Irish music. He/She used the session database. All songs were transposed to the same scale (D). Used 3 parameters as variables neural network size, dropout, number of layers). Once files were generated through RNN, all tunes were played and best ones collected and cleaned.\n",
    "\n",
    "\n",
    "<h3> Music Composition using recurrent Neural Networks [(link)](https://web.stanford.edu/class/cs224n/reports/2762076.pdf) </h3>\n",
    "\n",
    "Nipun Agarwala, Yuki Inoue and Axel Sly have published a paper on music composition using different types of Neural Networks. They have used the same ABC music notation and encoding scheme. The types of Neural Networks used were: Continuous Bag-Of-Words, Character RNN, Sequence-to-Sequence, and Generative Adversarial Networks. They found Sequence-to-Sequence generated the best music in their case. More Information: [here](https://github.com/yinoue93/CS224N_proj)\n",
    " \n",
    "</details>\n",
    "\n",
    "\n"
   ]
  },
  {
   "cell_type": "markdown",
   "metadata": {},
   "source": [
    "## Irish Music ##\n",
    "\n",
    "Irish Music is music that has been created in various genres on the island of Ireland. The indigenous music of the island is termed Irish traditional music. It has remained vibrant through the 20th and into the 21st century, despite globalising cultural forces. In spite of emigration and a well-developed connection to music influences from Britain and the United States, Irish traditional music has kept many of its elements and has itself influenced many forms of music, such as the folk music in Newfoundland and Labrador. \n",
    "\n",
    "Irish traditional music includes many kinds of songs, including drinking songs, ballads and laments, sung unaccompanied or with accompaniment by a variety of instruments. Traditional dance music includes reels, hornpipes and jigs. In the nineteenth century folk instruments would have included the flute, the fiddle and the uilleann pipes."
   ]
  },
  {
   "cell_type": "markdown",
   "metadata": {},
   "source": [
    "## ABC Notation ## \n",
    "\n",
    "ABC is a great way of passing on tunes by writing the notes out in plain text. It's very straightforward and easy to learn. More information can be found [here](http://abcnotation.com/blog/2010/01/31/how-to-understand-abc-the-basics/)\n",
    "\n",
    "Typically a tune consists of two parts: the **header** which contains background information, and the **notes** which contain the notes.\n",
    "\n",
    "The **header** consists of different fields which describe\n",
    "* title: the name of the song\n",
    "* composer: the name of the composer of the song\n",
    "* meter: refers to the regularly recurring patterns such as bars and beats \n",
    "* key: refers to which pitch is the center key of a song \n",
    "\n",
    "The **notes** of the tune consist of A, B, C, D, E, F, G which represent the musical note. Upper case letters are used to denote the bottom octave, while lower case represent the top octave. An apostrophe references going up an octave while a comma denotes going down an octave.\n",
    "\n",
    "The **note length** is determined by a separate field, and a number after each note determines how long a note should be held for. A /x refers to shortening a note by the appropriate number x.\n",
    "\n",
    "**Bar lines** are easily inserted with a | symbol and you can use || for a double bar line or |] for a thin-thick double bar line. Similarly |: represents the start of a repeated section and :| represents the end. Where one repeated section ends and a new one starts, use :||: or :: for short.\n"
   ]
  },
  {
   "cell_type": "markdown",
   "metadata": {},
   "source": [
    "## Music Dataset ##\n",
    "\n",
    "We have sourced music from The Session website ([link](https://thesession.org/)), hosted by Jeremy Keith. \n",
    "\n",
    "We chose this website because it maintains an frequently updated repository of Irish music stored using ABC notation.\n",
    "\n",
    "We contacted Jeremy and were given a link to a copy of all the tunes hosted on the website that we could store offline and train our Neural Network on.\n",
    "\n",
    "We have divided prepping the data to 4 stages that we defined as: \n",
    "1. Conversion: Conversion is the process of converting abc notation into a python readable format. \n",
    "2. Filtering: Filtering is the process of removing entries from the dataset entirely that are deemed unsuitable as training data\n",
    "3. Cleaning: Cleaning is the process of removing or modifying elements of the abc string itself\n",
    "4. Vectorizing: Vectorizing is the process of converting filtered and cleaned strings into matricies of numbers\n"
   ]
  },
  {
   "cell_type": "markdown",
   "metadata": {},
   "source": [
    "## Analysis of the Tunes Dataset ##\n",
    "\n",
    "We converted the data and stored the tunes offline in a python file \"Tunes_cleaned\". We then analysed them to know the data we had. \n",
    "\n",
    "There are various types of Irish songs: reels, jigs, polkas etc. Looking at the song distribution in our data:"
   ]
  },
  {
   "cell_type": "code",
   "execution_count": 37,
   "metadata": {},
   "outputs": [],
   "source": [
    "# Imports\n",
    "from Music.Data.Tunes_cleaned import tunes as raw_tunes\n",
    "import numpy as np\n",
    "import pandas as pd\n",
    "import matplotlib.pyplot as plt\n",
    "import re \n",
    "import random\n",
    "%matplotlib inline\n",
    "plt.rc('xtick', labelsize=20) \n",
    "plt.rc('ytick', labelsize=10)\n",
    "\n",
    "tunes = pd.DataFrame.from_dict(raw_tunes, orient='index')"
   ]
  },
  {
   "cell_type": "code",
   "execution_count": 38,
   "metadata": {
    "scrolled": false
   },
   "outputs": [
    {
     "data": {
      "image/png": "[encoded data removed]",
      "text/plain": [
       "<Figure size 1440x720 with 1 Axes>"
      ]
     },
     "metadata": {},
     "output_type": "display_data"
    }
   ],
   "source": [
    "tunes['type'].value_counts().plot(kind='bar', figsize=(20,10), rot=45)\n",
    "plt.title(\"Song Types\", fontsize=20)\n",
    "plt.show()"
   ]
  },
  {
   "cell_type": "markdown",
   "metadata": {},
   "source": [
    "As we can see, most of the songs are reels, a common type of Irish music. (a little more analysis here)\n",
    "\n",
    "Time Stamps of our song:"
   ]
  },
  {
   "cell_type": "code",
   "execution_count": 39,
   "metadata": {
    "scrolled": true
   },
   "outputs": [
    {
     "data": {
      "image/png": "[encoded data removed]",
      "text/plain": [
       "<Figure size 1440x720 with 1 Axes>"
      ]
     },
     "metadata": {},
     "output_type": "display_data"
    }
   ],
   "source": [
    "tunes['meter'].value_counts().plot(kind='bar', figsize=(20,10), rot=45)\n",
    "plt.title(\"Meters\", fontsize=20)\n",
    "plt.show()"
   ]
  },
  {
   "cell_type": "markdown",
   "metadata": {},
   "source": [
    "The most popular music had a 4/4 time stamp. (more analysis here)"
   ]
  },
  {
   "cell_type": "markdown",
   "metadata": {},
   "source": [
    "### Key Analysis ### \n",
    "\n",
    "Traditional music has a fairly limited span of keys, which is imposed by the nature of the instruments used. For example the Uilleann Pipes are confined to a single key (Typically D major)."
   ]
  },
  {
   "cell_type": "code",
   "execution_count": 40,
   "metadata": {
    "scrolled": true
   },
   "outputs": [
    {
     "data": {
      "image/png": "[encoded data removed]",
      "text/plain": [
       "<Figure size 1440x720 with 1 Axes>"
      ]
     },
     "metadata": {},
     "output_type": "display_data"
    }
   ],
   "source": [
    "tunes['tonic'] = tunes['mode'].str[0]\n",
    "tunes['mode'].value_counts().plot(kind='bar', figsize=(20,10), rot=75)\n",
    "plt.title(\"Mode Frequency\", fontsize=20)\n",
    "plt.show()"
   ]
  },
  {
   "cell_type": "code",
   "execution_count": 41,
   "metadata": {
    "scrolled": true
   },
   "outputs": [
    {
     "data": {
      "image/png": "[encoded data removed]",
      "text/plain": [
       "<Figure size 1440x720 with 1 Axes>"
      ]
     },
     "metadata": {},
     "output_type": "display_data"
    }
   ],
   "source": [
    "tunes['tonic'].value_counts().plot(kind='bar', figsize=(20,10), rot=0)\n",
    "plt.title(\"Tonic Frequency\", fontsize=20)\n",
    "plt.show()"
   ]
  },
  {
   "cell_type": "markdown",
   "metadata": {},
   "source": [
    "D major and G major are the most common scales our music data is in. (more analysis)\n"
   ]
  },
  {
   "cell_type": "markdown",
   "metadata": {},
   "source": [
    "## Simplified ABC Notation ## \n",
    "\n",
    "As we can see from the previous section, although ABC notations do simplify music representation, they are still fairly complicated. They are subjective and have many different features. \n",
    "\n",
    "In order to feed this data so a Neural Network can be trained on, we need to simplify this data much further.\n",
    "\n",
    "We filtered out data,based on our analysis earlier to take out many variations, yet still have a big enough sample to train on, and then cleaned it by removing all ornamentation. \n",
    "\n",
    "We call this a simplified ABC Notation:\n",
    "\n",
    "#### Rules of Simplified ABC Notation ####\n",
    "1. rule 1\n",
    "2. rule 2\n",
    "...\n",
    "\n",
    "(little more description here)"
   ]
  },
  {
   "cell_type": "code",
   "execution_count": 42,
   "metadata": {},
   "outputs": [],
   "source": [
    "tunes_clean = tunes.drop(tunes[tunes['meter']!='4/4'].index)"
   ]
  },
  {
   "cell_type": "code",
   "execution_count": 43,
   "metadata": {},
   "outputs": [],
   "source": [
    "def remove_remarks(frame):\n",
    "    \"\"\"\n",
    "    Remarks are extraneous information contained in square brackets\n",
    "    \"\"\"\n",
    "    frame['abc'] = frame['abc'].str.replace('\\[.*?\\]', '')\n",
    "    return frame"
   ]
  },
  {
   "cell_type": "code",
   "execution_count": 44,
   "metadata": {},
   "outputs": [],
   "source": [
    "def remove_tuples(frame):\n",
    "    \"\"\"\n",
    "    Tuplets are occurences of irrational time\n",
    "    \"\"\"\n",
    "    return frame.drop(frame[frame['abc'].str.count('\\(\\d')>0].index)"
   ]
  },
  {
   "cell_type": "code",
   "execution_count": 45,
   "metadata": {},
   "outputs": [],
   "source": [
    "def remove_non_diatonic(frame):\n",
    "    \"\"\"\n",
    "    Non-diatonic notes are notes not found within the default key signature\n",
    "    \"\"\"\n",
    "    return frame.drop(frame[frame['abc'].str.count('\\^|_|=')>0].index)\n"
   ]
  },
  {
   "cell_type": "code",
   "execution_count": 46,
   "metadata": {},
   "outputs": [],
   "source": [
    "def remove_small_strings(frame, len):\n",
    "    \"\"\"\n",
    "    Removes all rows below a certain length\n",
    "    \"\"\"\n",
    "    return frame.drop(frame[frame.abc.str.len()<len].index)"
   ]
  },
  {
   "cell_type": "code",
   "execution_count": 47,
   "metadata": {},
   "outputs": [],
   "source": [
    "def remove_ornamentation(frame):\n",
    "    \"\"\"\n",
    "    Ornamentation represents trills or other performance enhancers\n",
    "    See http://abcnotation.com/wiki/abc:standard:v2.1#decorations\n",
    "    .       staccato mark\n",
    "    ~       Irish roll\n",
    "    H       fermata\n",
    "    L       accent or emphasis\n",
    "    M       lowermordent\n",
    "    O       coda\n",
    "    P       uppermordent\n",
    "    S       segno\n",
    "    T       trill\n",
    "    u       up-bow\n",
    "    v       down-bow\n",
    "    \"\"\"\n",
    "    frame['abc'] = frame['abc'].str.replace(\"[\\.~HLMOPSTuv]\",'')\n",
    "    return frame"
   ]
  },
  {
   "cell_type": "code",
   "execution_count": 48,
   "metadata": {},
   "outputs": [],
   "source": [
    "def remove_quotations(frame):\n",
    "    \"\"\"\n",
    "    Chord symbols are sypically placed within quotation marks\n",
    "    \"\"\"\n",
    "    frame['abc'] = frame['abc'].str.replace('\".*?\"', '')\n",
    "    return frame"
   ]
  },
  {
   "cell_type": "code",
   "execution_count": 49,
   "metadata": {},
   "outputs": [],
   "source": [
    "def consolidate_barlines(frame):\n",
    "    \"\"\"\n",
    "    Turns all barlines and repeatlines into single '|' characters\n",
    "    see http://abcnotation.com/wiki/abc:standard:v2.1#repeat_bar_symbols\n",
    "    \"\"\"\n",
    "    frame['abc'] = frame['abc'].str.replace('\\|+|\\|:|\\|[|:\\||]\\|', '|')\n",
    "    return frame"
   ]
  },
  {
   "cell_type": "code",
   "execution_count": 50,
   "metadata": {},
   "outputs": [],
   "source": [
    "def get_rand_songs(frame, num=10):\n",
    "    songs = frame.sample(n=num)['abc']\n",
    "    return songs"
   ]
  },
  {
   "cell_type": "code",
   "execution_count": 51,
   "metadata": {},
   "outputs": [],
   "source": [
    "def split_by_bar(abc_string):\n",
    "    \"\"\"\n",
    "    Takes a string of full ABC notation and splits it into lists representing individual bars\n",
    "    \"\"\"\n",
    "    result = abc_string.split('|')\n",
    "    return [x for x in result if x != '']"
   ]
  },
  {
   "cell_type": "code",
   "execution_count": 52,
   "metadata": {},
   "outputs": [],
   "source": [
    "def expand_bar(bar):\n",
    "    \"\"\"\n",
    "    Takes a str representing a single bar of notes (no barlines)\n",
    "    Returns a string with each 16th note as it's own character\n",
    "    Note: because of octaves and other random noise bars are NOT guaranteed to be 16 characters\n",
    "    \"\"\"\n",
    "    output = \"\"\n",
    "    if len(bar)==0:\n",
    "        return output\n",
    "    if bar[0].isnumeric():\n",
    "        bar = bar[1:]\n",
    "    #if the bar contains only letters then all letters are of equal length\n",
    "    if bar.isalpha():\n",
    "        time_value = 16//len(bar)\n",
    "        for char in bar:\n",
    "            output+= char*time_value\n",
    "        return output\n",
    "    \n",
    "    # if the bar contains more timing information, we must parse it\n",
    "    \n",
    "    # === Long Notes ===\n",
    "    # long notes are notes with a number following them, c2 is twice the length of c\n",
    "    # long notes regex group\n",
    "    long_notes_re = re.compile('([a-zA-Z],*\\'*(\\d))')\n",
    "    long_notes = long_notes_re.findall(bar)\n",
    "    ### inline func to replace long notes\n",
    "    def replace_long_notes(note):\n",
    "        \"\"\"\n",
    "        Takes a re match and replaces it with \\d occurences of the letter\n",
    "        \"\"\"\n",
    "        str = note.group()[:-1]\n",
    "        n = int(note.group(2))\n",
    "        return str*n\n",
    "    ### endfunc\n",
    "    if long_notes:\n",
    "        bar = long_notes_re.sub(replace_long_notes,bar)\n",
    "        \n",
    "    # === SHORT NOTES ===\n",
    "    # short notes are notes with a / and a number, c/2 is half the length of c\n",
    "    # short notes regex group, group 2 matches a number if it is present\n",
    "    highest_mult = 2 #default for / in ABC notation is to halve the length\n",
    "    short_notes_re = re.compile('([a-zA-Z],*\\'*)(/)(\\d*)')\n",
    "    short_notes = short_notes_re.findall(bar)\n",
    "    if short_notes:\n",
    "        # check if any of the note divisions are higher than the default of 2\n",
    "        for note, slash, num in short_notes:\n",
    "            if num.isnumeric and num is not \"\":\n",
    "#                 print(\"{} {} {} {}\".format(note,slash,type(num),type(highest_mult)))\n",
    "                if int(num)>int(highest_mult):\n",
    "                    highest_mult=int(num)\n",
    "    # get every non-short note and multiply it by the highest multiple value\n",
    "    not_short_notes_re = re.compile('[a-zA-Z],*(?!/)')\n",
    "    not_short_notes = not_short_notes_re.findall(bar)    \n",
    "    ### inline function to replace notes\n",
    "    def lengthen_non_short_notes(match_str):\n",
    "        return match_str.group()*highest_mult\n",
    "    ### endfunc\n",
    "    # lengthen all notes that aren't 'short notes'\n",
    "    bar = not_short_notes_re.sub(lengthen_non_short_notes, bar)\n",
    "    def replace_short_notation(match_str):\n",
    "        return match_str.group(1)\n",
    "    bar = short_notes_re.sub(replace_short_notation, bar)\n",
    "    #lastly some bars need to be expanded to exactly 16 notes\n",
    "    #note: this won't fix octave characters as they correspond to 2 characters right now, the same test should be done when the letters are converted to numbers\n",
    "    if len(bar)!=0 and 16%len(bar)==0:\n",
    "        new_bar = \"\"\n",
    "        time_value = 16//len(bar)\n",
    "        for char in bar:\n",
    "            new_bar+= char*time_value\n",
    "        bar = new_bar\n",
    "    return bar"
   ]
  },
  {
   "cell_type": "code",
   "execution_count": 53,
   "metadata": {
    "scrolled": true
   },
   "outputs": [
    {
     "name": "stdout",
     "output_type": "stream",
     "text": [
      "Example Cleaned Song Format:\n",
      "\n",
      "|:D2DFA3F|GFGBe3d|cA~A2^GABc|1dcdefdAF:|2~d2ced2ef|||:g2gfgbag|fddcd2Bd|cA~A2cdec|1dcdefedf:|2~d2ced2fg|||:a2z2b3f|abafdafd|cA~A2cdec|1dcdefdfg:|2~d2ced4||\n",
      "\n"
     ]
    }
   ],
   "source": [
    "rand_songs = get_rand_songs(tunes_clean,50)\n",
    "# uncomment below to see the 'cleaned' representation of 3 random songs\n",
    "print(\"Example Cleaned Song Format:\\n\")\n",
    "for song in rand_songs[:1]:\n",
    "    print(song+'\\n')"
   ]
  },
  {
   "cell_type": "code",
   "execution_count": 54,
   "metadata": {},
   "outputs": [
    {
     "name": "stdout",
     "output_type": "stream",
     "text": [
      "Example Expanded Song Format:\n",
      "\n",
      "[':~GGGGGGAABBGGBBdd', '~ggggggaa.bb.ggddBB', '~AAAAAABBccccccee', 'aaff(3.gg.ff.eeddccBBAA', '~GGGGGGAABBGGBBdd', '~ggggggaa.bb.ggddBB', 'AAggeeccBBGGAAFF', '[1GGGGGGGGFFGGDDEEFF]:', '[2GGGGGGGGFFGGzzBBcc]:', ':dd_eeddGG(3AABBccddgg', 'eeccAAGG(3.FF.GG.AADDBB', 'AAddffaa~gggggg!mmoorrddeenntt!ff', 'eeddccBB(3AABBccddBB', '~GGGGGGAABBGGBBdd', '~ggggggaa.bb.ggddBB', 'AAggeeccBBGGAAFF', 'GGGGGGGGFFGGzzBBcc:']\n",
      "\n"
     ]
    }
   ],
   "source": [
    "songs_clean = []\n",
    "for song in rand_songs:\n",
    "    song_split = split_by_bar(song)\n",
    "    bars = []\n",
    "    for bar in song_split:\n",
    "        bars.append(expand_bar(bar))\n",
    "    for bar in bars:\n",
    "        if (len(bar)) is not 16:\n",
    "            pass\n",
    "#             print(\"{}: {}\".format(len(bar),bar))\n",
    "    songs_clean.append(bars)\n",
    "    \n",
    "# uncomment below to see the format of 3 random songs after the bars have been 'expanded'\n",
    "print(\"Example Expanded Song Format:\\n\")\n",
    "for n in range(1):\n",
    "    print(\"{}\\n\".format(random.choice(songs_clean)))"
   ]
  },
  {
   "cell_type": "markdown",
   "metadata": {},
   "source": [
    "## Vectorizing Data ##\n",
    "### Representing Irish Music Graphically ###\n",
    "\n",
    "Converting ABC notation into a vectorized form to visually represent the output, with the intention of training machine learning algorithms on the resulting images. We are using the concept of treating music as an image to train the GAN on.\n",
    "\n",
    "(More analysis here)\n",
    "\n"
   ]
  },
  {
   "cell_type": "code",
   "execution_count": 55,
   "metadata": {},
   "outputs": [],
   "source": [
    "def abc_to_notelist(abc):\n",
    "    result = []\n",
    "    bars = split_by_bar(abc)\n",
    "    for bar in bars:\n",
    "        result.append(expand_bar(bar))\n",
    "    return result"
   ]
  },
  {
   "cell_type": "code",
   "execution_count": 56,
   "metadata": {},
   "outputs": [],
   "source": [
    "tunes_vectorized = tunes_clean['abc'].apply(abc_to_notelist)"
   ]
  },
  {
   "cell_type": "code",
   "execution_count": 57,
   "metadata": {},
   "outputs": [],
   "source": [
    "notes = {\n",
    "    'C' : 60,\n",
    "    'D' : 61,\n",
    "    'E' : 62,\n",
    "    'F' : 63,\n",
    "    'G' : 64,\n",
    "    'A' : 65,\n",
    "    'B' : 66,\n",
    "    'c' : 67,\n",
    "    'd' : 68,\n",
    "    'e' : 69,\n",
    "    'f' : 70,\n",
    "    'g' : 71,\n",
    "    'a' : 72,\n",
    "    'b' : 73\n",
    "}\n",
    "\n",
    "def abc_to_nums(abc):\n",
    "    \"\"\"\n",
    "    Converts a single bar to note numbers\n",
    "    \"\"\"\n",
    "    nums = []\n",
    "    for letter in abc:\n",
    "        if letter in notes:\n",
    "            nums.append(notes[letter])\n",
    "        elif len(nums)==0:\n",
    "            continue\n",
    "        elif letter is \"'\":\n",
    "            nums[-1]+=7\n",
    "        elif letter is \",\":\n",
    "            nums[-1]-=7     \n",
    "    return np.asarray(nums)"
   ]
  },
  {
   "cell_type": "code",
   "execution_count": 58,
   "metadata": {},
   "outputs": [],
   "source": [
    "# takes a random sample of the songs and rejects if if it's not of size (n>16,16)\n",
    "while(True):\n",
    "    song_sample = tunes_vectorized.sample(1).iloc[0]\n",
    "#     print(song_sample)\n",
    "    song_nums = []\n",
    "    for bar in song_sample:\n",
    "        song_nums.append(abc_to_nums(bar))\n",
    "    song_nums = np.asarray(song_nums)\n",
    "    if song_nums.shape[0]<16:\n",
    "        continue\n",
    "    if len(song_nums.shape)==2 and song_nums.shape[1]==16:\n",
    "        break\n",
    "# restrict to first 16 bars\n",
    "song_nums = song_nums[:16]"
   ]
  },
  {
   "cell_type": "code",
   "execution_count": 59,
   "metadata": {},
   "outputs": [],
   "source": [
    "def print_img_by_bars(songs, numcols=3):\n",
    "    \"\"\"\n",
    "    Takes an array of arrays of size 16,16 and plots it in 3 configurations\n",
    "    \"\"\"\n",
    "    f, axs = plt.subplots(len(songs),numcols,figsize=(10,len(songs)*2))\n",
    "    plt.tight_layout()\n",
    "    for num, song in enumerate(songs):\n",
    "        img = song[:16]\n",
    "        index = num*numcols+1\n",
    "        plt.subplot(len(songs), 3, index)\n",
    "        plt.axis('off')\n",
    "        plt.title(\"1 bar per line\", fontsize=10)\n",
    "        plt.matshow(img, cmap='gray', interpolation='nearest', fignum=0, aspect=\"auto\")\n",
    "        plt.subplot(len(songs), 3, index+1)\n",
    "        plt.axis('off')\n",
    "        plt.title(\"2 bars per line\", fontsize=10)\n",
    "        plt.matshow(img.reshape(8,32), cmap='gray', interpolation='nearest', fignum=0, aspect=\"auto\")\n",
    "        plt.subplot(len(songs), 3, index+2)\n",
    "        plt.axis('off')\n",
    "        plt.title(\"4 bars per line\", fontsize=10)\n",
    "        plt.matshow(img.reshape(4,64), cmap='gray', interpolation='nearest', fignum=0, aspect=\"auto\")\n"
   ]
  },
  {
   "cell_type": "code",
   "execution_count": 60,
   "metadata": {},
   "outputs": [],
   "source": [
    "song_samples = tunes_vectorized.sample(50)\n",
    "songs_as_nums = []\n",
    "for song in tunes_vectorized:\n",
    "    numsong = []\n",
    "    for bar in song:\n",
    "        numsong.append(abc_to_nums(bar))\n",
    "    numsong = np.asarray(numsong)\n",
    "    if numsong.shape[0]<16:\n",
    "        continue\n",
    "    elif len(numsong.shape)==2 and numsong.shape[1]==16:\n",
    "        songs_as_nums.append(numsong)\n",
    "songs_as_nums = np.asarray(songs_as_nums)"
   ]
  },
  {
   "cell_type": "code",
   "execution_count": 61,
   "metadata": {},
   "outputs": [
    {
     "name": "stdout",
     "output_type": "stream",
     "text": [
      "Example Vectorized Song Format:\n",
      "\n",
      "[[61 61 68 68 68 68 67 67 68 68 65 65 63 63 61 61]\n",
      " [62 62 62 62 67 67 62 62 68 68 62 62 67 67 62 62]\n",
      " [61 61 68 68 68 68 67 67 68 68 72 72 71 71 72 72]\n",
      " [70 70 72 72 69 69 67 67 68 68 65 65 63 63 62 62]\n",
      " [61 61 68 68 68 68 67 67 68 68 65 65 63 63 61 61]\n",
      " [62 62 62 62 67 67 62 62 68 68 62 62 67 67 62 62]\n",
      " [61 61 68 68 68 68 67 67 68 68 72 72 71 71 72 72]\n",
      " [70 70 72 72 69 69 67 67 68 68 67 67 68 68 70 70]\n",
      " [71 71 71 71 71 71 69 69 70 70 69 69 68 68 67 67]\n",
      " [65 65 66 66 64 64 63 63 64 64 63 63 61 61 63 63]\n",
      " [65 65 63 63 63 63 63 63 65 65 67 67 68 68 67 67]\n",
      " [65 65 64 64 64 64 63 63 64 64 66 66 68 68 70 70]\n",
      " [71 71 72 72 71 71 69 69 70 70 69 69 68 68 67 67]\n",
      " [65 65 66 66 64 64 63 63 64 64 63 63 61 61 63 63]\n",
      " [65 65 63 63 63 63 63 63 65 65 67 67 68 68 67 67]\n",
      " [65 65 64 64 64 64 63 63 64 64 65 65 63 63 64 64]]\n",
      "\n"
     ]
    }
   ],
   "source": [
    "# uncomment to see the vector form of 3 random songs\n",
    "print(\"Example Vectorized Song Format:\\n\")\n",
    "for n in range(1):\n",
    "    print(\"{}\\n\".format(np.random.choice(songs_as_nums)))"
   ]
  },
  {
   "cell_type": "code",
   "execution_count": 62,
   "metadata": {},
   "outputs": [
    {
     "name": "stdout",
     "output_type": "stream",
     "text": [
      "Example Vectorized Images of Irish Music using Simplified ABC Notation\n"
     ]
    },
    {
     "data": {
      "image/png": "[encoded data removed]",
      "text/plain": [
       "<Figure size 720x432 with 9 Axes>"
      ]
     },
     "metadata": {},
     "output_type": "display_data"
    }
   ],
   "source": [
    "print(\"Example Vectorized Images of Irish Music using Simplified ABC Notation\")\n",
    "print_img_by_bars(songs_as_nums[:3])\n",
    "# uncomment below to save as an image\n",
    "#plt.savefig('bars.png')"
   ]
  },
  {
   "cell_type": "markdown",
   "metadata": {},
   "source": [
    "## Random Song Generation ##\n",
    "\n",
    "We created random songs to test our data against.\n",
    "\n",
    "(more info)\n"
   ]
  },
  {
   "cell_type": "markdown",
   "metadata": {},
   "source": [
    "## Pre-Processing ## \n",
    "\n",
    "Before training on GAN, we did:\n",
    "1. rule 1\n",
    "2. rule 2\n",
    "...\n"
   ]
  },
  {
   "cell_type": "markdown",
   "metadata": {},
   "source": [
    "## Training ## \n",
    "\n",
    "Training on GANs\n",
    "\n",
    "details on type(s) of GANs used and why + code\n"
   ]
  },
  {
   "cell_type": "markdown",
   "metadata": {},
   "source": [
    "## Post-Processing ##\n",
    "\n",
    "After training we did this to clean up the results\n",
    "This is how the images generated by the different GANs look..."
   ]
  },
  {
   "cell_type": "markdown",
   "metadata": {},
   "source": [
    "## Decoding to ABC ##\n",
    "\n",
    "After that we converted the images back to ABC notation to generate music.\n",
    "\n",
    "Here are some sample abc music generated by the GAN\n",
    "Here are the results of the music played...\n"
   ]
  },
  {
   "cell_type": "markdown",
   "metadata": {},
   "source": [
    "## Experiments ##\n",
    "\n",
    "Trying out this combination of Simple ABC notation gives this data...\n",
    "\n",
    "Trying out this combination of GANs gives this data..."
   ]
  },
  {
   "cell_type": "markdown",
   "metadata": {},
   "source": [
    "## Analysis of Results ##"
   ]
  },
  {
   "cell_type": "markdown",
   "metadata": {},
   "source": [
    "## Conclusion ##"
   ]
  },
  {
   "cell_type": "markdown",
   "metadata": {},
   "source": [
    "## Further Improvements/Ideas ##"
   ]
  },
  {
   "cell_type": "code",
   "execution_count": null,
   "metadata": {},
   "outputs": [],
   "source": []
  }
 ],
 "metadata": {
  "kernelspec": {
   "display_name": "Python 3",
   "language": "python",
   "name": "python3"
  },
  "language_info": {
   "codemirror_mode": {
    "name": "ipython",
    "version": 3
   },
   "file_extension": ".py",
   "mimetype": "text/x-python",
   "name": "python",
   "nbconvert_exporter": "python",
   "pygments_lexer": "ipython3",
   "version": "3.5.2"
  }
 },
 "nbformat": 4,
 "nbformat_minor": 1
}
