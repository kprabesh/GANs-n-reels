{
 "cells": [
  {
   "cell_type": "code",
   "execution_count": 10,
   "metadata": {
    "collapsed": true
   },
   "outputs": [],
   "source": [
    "# Imports\n",
    "import pandas as pd\n",
    "import Cleaner\n",
    "import Vectorizer\n",
    "from Tunes import tunes as tunes_raw"
   ]
  },
  {
   "cell_type": "code",
   "execution_count": 23,
   "metadata": {},
   "outputs": [
    {
     "data": {
      "text/html": [
       "<div>\n",
       "<style>\n",
       "    .dataframe thead tr:only-child th {\n",
       "        text-align: right;\n",
       "    }\n",
       "\n",
       "    .dataframe thead th {\n",
       "        text-align: left;\n",
       "    }\n",
       "\n",
       "    .dataframe tbody tr th {\n",
       "        vertical-align: top;\n",
       "    }\n",
       "</style>\n",
       "<table border=\"1\" class=\"dataframe\">\n",
       "  <thead>\n",
       "    <tr style=\"text-align: right;\">\n",
       "      <th></th>\n",
       "      <th>mode</th>\n",
       "      <th>type</th>\n",
       "      <th>tune</th>\n",
       "      <th>setting</th>\n",
       "      <th>meter</th>\n",
       "      <th>abc</th>\n",
       "      <th>abc_raw</th>\n",
       "    </tr>\n",
       "  </thead>\n",
       "  <tbody>\n",
       "    <tr>\n",
       "      <th>1</th>\n",
       "      <td>Edorian</td>\n",
       "      <td>reel</td>\n",
       "      <td>1</td>\n",
       "      <td>1</td>\n",
       "      <td>4/4</td>\n",
       "      <td>|:D2|EBBAB2EB|B2ABdBAG|FDADBDAD|FDADdAFD|EBBAB...</td>\n",
       "      <td>|:D2|EBBAB2EB|B2ABdBAG|FDADBDAD|FDADdAFD|EBBAB...</td>\n",
       "    </tr>\n",
       "    <tr>\n",
       "      <th>2</th>\n",
       "      <td>Dmajor</td>\n",
       "      <td>reel</td>\n",
       "      <td>2</td>\n",
       "      <td>2</td>\n",
       "      <td>4/4</td>\n",
       "      <td>|A2FAA2dB|A2FABEE2|A2FAA2Bd|egfdedBd|A2FAA2dB|...</td>\n",
       "      <td>|A2FAA2dB|A2FABEE2|A2FAA2Bd|egfdedBd|A2FAA2dB|...</td>\n",
       "    </tr>\n",
       "    <tr>\n",
       "      <th>3</th>\n",
       "      <td>Gmajor</td>\n",
       "      <td>reel</td>\n",
       "      <td>3</td>\n",
       "      <td>3</td>\n",
       "      <td>4/4</td>\n",
       "      <td>BA|G2BGAFDF|G2Bdc2BA|G2BGAFDF|GEEGc2BA|G2BGAFD...</td>\n",
       "      <td>BA|G2BGAFDF|G2Bdc2BA|G2BGAFDF|GEEGc2BA|G2BGAFD...</td>\n",
       "    </tr>\n",
       "    <tr>\n",
       "      <th>4</th>\n",
       "      <td>Dmajor</td>\n",
       "      <td>hornpipe</td>\n",
       "      <td>4</td>\n",
       "      <td>4</td>\n",
       "      <td>4/4</td>\n",
       "      <td>|:ag|faefdeAF|DFAdf2ef|gbegdeAF|GBAGE2ag|faefd...</td>\n",
       "      <td>|:ag|faefdeAF|DFAdf2ef|gbegdeAF|GBAGE2ag|faefd...</td>\n",
       "    </tr>\n",
       "    <tr>\n",
       "      <th>5</th>\n",
       "      <td>Dmixolydian</td>\n",
       "      <td>jig</td>\n",
       "      <td>5</td>\n",
       "      <td>5</td>\n",
       "      <td>6/8</td>\n",
       "      <td>|:DEDDEG|A2AABc|BAGAGE|GEAGED|DEDDEG|A2AABc|BA...</td>\n",
       "      <td>|:DEDDEG|A2AABc|BAGAGE|GEAGED|DEDDEG|A2AABc|BA...</td>\n",
       "    </tr>\n",
       "  </tbody>\n",
       "</table>\n",
       "</div>"
      ],
      "text/plain": [
       "          mode      type tune setting meter  \\\n",
       "1      Edorian      reel    1       1   4/4   \n",
       "2       Dmajor      reel    2       2   4/4   \n",
       "3       Gmajor      reel    3       3   4/4   \n",
       "4       Dmajor  hornpipe    4       4   4/4   \n",
       "5  Dmixolydian       jig    5       5   6/8   \n",
       "\n",
       "                                                 abc  \\\n",
       "1  |:D2|EBBAB2EB|B2ABdBAG|FDADBDAD|FDADdAFD|EBBAB...   \n",
       "2  |A2FAA2dB|A2FABEE2|A2FAA2Bd|egfdedBd|A2FAA2dB|...   \n",
       "3  BA|G2BGAFDF|G2Bdc2BA|G2BGAFDF|GEEGc2BA|G2BGAFD...   \n",
       "4  |:ag|faefdeAF|DFAdf2ef|gbegdeAF|GBAGE2ag|faefd...   \n",
       "5  |:DEDDEG|A2AABc|BAGAGE|GEAGED|DEDDEG|A2AABc|BA...   \n",
       "\n",
       "                                             abc_raw  \n",
       "1  |:D2|EBBAB2EB|B2ABdBAG|FDADBDAD|FDADdAFD|EBBAB...  \n",
       "2  |A2FAA2dB|A2FABEE2|A2FAA2Bd|egfdedBd|A2FAA2dB|...  \n",
       "3  BA|G2BGAFDF|G2Bdc2BA|G2BGAFDF|GEEGc2BA|G2BGAFD...  \n",
       "4  |:ag|faefdeAF|DFAdf2ef|gbegdeAF|GBAGE2ag|faefd...  \n",
       "5  |:DEDDEG|A2AABc|BAGAGE|GEAGED|DEDDEG|A2AABc|BA...  "
      ]
     },
     "execution_count": 23,
     "metadata": {},
     "output_type": "execute_result"
    }
   ],
   "source": [
    "tunes = pd.DataFrame.from_dict(tunes_raw, orient='index')\n",
    "tunes['abc_raw'] = tunes.abc # preserve the original abc strings \n",
    "tunes.head()"
   ]
  },
  {
   "cell_type": "code",
   "execution_count": 59,
   "metadata": {},
   "outputs": [
    {
     "ename": "AttributeError",
     "evalue": "'Series' object has no attribute 'split'",
     "output_type": "error",
     "traceback": [
      "\u001b[0;31m---------------------------------------------------------------------------\u001b[0m",
      "\u001b[0;31mAttributeError\u001b[0m                            Traceback (most recent call last)",
      "\u001b[0;32m<ipython-input-59-7091a9ae39f7>\u001b[0m in \u001b[0;36m<module>\u001b[0;34m()\u001b[0m\n\u001b[0;32m----> 1\u001b[0;31m \u001b[0mtunes\u001b[0m\u001b[0;34m.\u001b[0m\u001b[0mabc\u001b[0m\u001b[0;34m.\u001b[0m\u001b[0mapply\u001b[0m\u001b[0;34m(\u001b[0m\u001b[0mCleaner\u001b[0m\u001b[0;34m.\u001b[0m\u001b[0mclean\u001b[0m\u001b[0;34m(\u001b[0m\u001b[0mtunes\u001b[0m\u001b[0;34m.\u001b[0m\u001b[0mabc\u001b[0m\u001b[0;34m.\u001b[0m\u001b[0mastype\u001b[0m\u001b[0;34m(\u001b[0m\u001b[0mstr\u001b[0m\u001b[0;34m)\u001b[0m\u001b[0;34m,\u001b[0m\u001b[0mtunes\u001b[0m\u001b[0;34m.\u001b[0m\u001b[0msetting\u001b[0m\u001b[0;34m)\u001b[0m\u001b[0;34m,\u001b[0m \u001b[0mindex\u001b[0m\u001b[0;34m=\u001b[0m\u001b[0;34m'1'\u001b[0m\u001b[0;34m)\u001b[0m\u001b[0;34m\u001b[0m\u001b[0m\n\u001b[0m\u001b[1;32m      2\u001b[0m \u001b[0;31m# tunes.abc.apply(lambda row: Cleaner.clean(tunes.abc.str, tunes.setting), axis=1)\u001b[0m\u001b[0;34m\u001b[0m\u001b[0;34m\u001b[0m\u001b[0m\n",
      "\u001b[0;32m~/GitHub/GANs-n-reels/PreProcessing/Cleaner.py\u001b[0m in \u001b[0;36mclean\u001b[0;34m(abc, tune_id)\u001b[0m\n\u001b[1;32m    454\u001b[0m     \u001b[0;34m:\u001b[0m\u001b[0;32mreturn\u001b[0m\u001b[0;34m:\u001b[0m \u001b[0mEither\u001b[0m \u001b[0;34m'!!BAD ABC!!'\u001b[0m \u001b[0;32mor\u001b[0m \u001b[0ma\u001b[0m \u001b[0mvalid\u001b[0m \u001b[0mabc\u001b[0m \u001b[0mstring\u001b[0m\u001b[0;34m\u001b[0m\u001b[0m\n\u001b[1;32m    455\u001b[0m     \"\"\"\n\u001b[0;32m--> 456\u001b[0;31m     \u001b[0mabc\u001b[0m \u001b[0;34m=\u001b[0m \u001b[0mclean_grammar\u001b[0m\u001b[0;34m(\u001b[0m\u001b[0mabc\u001b[0m\u001b[0;34m)\u001b[0m\u001b[0;34m\u001b[0m\u001b[0m\n\u001b[0m\u001b[1;32m    457\u001b[0m     \u001b[0mabc\u001b[0m \u001b[0;34m=\u001b[0m \u001b[0mremove_ornaments\u001b[0m\u001b[0;34m(\u001b[0m\u001b[0mabc\u001b[0m\u001b[0;34m)\u001b[0m\u001b[0;34m\u001b[0m\u001b[0m\n\u001b[1;32m    458\u001b[0m     \u001b[0mcleaned\u001b[0m \u001b[0;34m=\u001b[0m \u001b[0mremove_repeats\u001b[0m\u001b[0;34m(\u001b[0m\u001b[0mabc\u001b[0m\u001b[0;34m,\u001b[0m \u001b[0mtune_id\u001b[0m\u001b[0;34m)\u001b[0m\u001b[0;34m\u001b[0m\u001b[0m\n",
      "\u001b[0;32m~/GitHub/GANs-n-reels/PreProcessing/Cleaner.py\u001b[0m in \u001b[0;36mclean_grammar\u001b[0;34m(abc)\u001b[0m\n\u001b[1;32m     12\u001b[0m     \u001b[0mconsistent\u001b[0m \u001b[0mgrammar\u001b[0m \u001b[0mto\u001b[0m \u001b[0mhelp\u001b[0m \u001b[0msimplify\u001b[0m \u001b[0mfuture\u001b[0m \u001b[0mprocessing\u001b[0m\u001b[0;34m\u001b[0m\u001b[0m\n\u001b[1;32m     13\u001b[0m     \"\"\"\n\u001b[0;32m---> 14\u001b[0;31m     \u001b[0mabc\u001b[0m \u001b[0;34m=\u001b[0m \u001b[0;34m''\u001b[0m\u001b[0;34m.\u001b[0m\u001b[0mjoin\u001b[0m\u001b[0;34m(\u001b[0m\u001b[0mabc\u001b[0m\u001b[0;34m.\u001b[0m\u001b[0msplit\u001b[0m\u001b[0;34m(\u001b[0m\u001b[0;34m)\u001b[0m\u001b[0;34m)\u001b[0m\u001b[0;34m\u001b[0m\u001b[0m\n\u001b[0m\u001b[1;32m     15\u001b[0m     \u001b[0mabc\u001b[0m \u001b[0;34m=\u001b[0m \u001b[0mabc\u001b[0m\u001b[0;34m.\u001b[0m\u001b[0mreplace\u001b[0m\u001b[0;34m(\u001b[0m\u001b[0;34m\"\\\\\"\u001b[0m\u001b[0;34m,\u001b[0m \u001b[0;34m\"\"\u001b[0m\u001b[0;34m)\u001b[0m\u001b[0;34m\u001b[0m\u001b[0m\n\u001b[1;32m     16\u001b[0m     \u001b[0mabc\u001b[0m \u001b[0;34m=\u001b[0m \u001b[0mabc\u001b[0m\u001b[0;34m.\u001b[0m\u001b[0mreplace\u001b[0m\u001b[0;34m(\u001b[0m\u001b[0;34m\"\\x14\"\u001b[0m\u001b[0;34m,\u001b[0m \u001b[0;34m\"\"\u001b[0m\u001b[0;34m)\u001b[0m\u001b[0;34m\u001b[0m\u001b[0m\n",
      "\u001b[0;32m~/anaconda3/lib/python3.6/site-packages/pandas/core/generic.py\u001b[0m in \u001b[0;36m__getattr__\u001b[0;34m(self, name)\u001b[0m\n\u001b[1;32m   3079\u001b[0m             \u001b[0;32mif\u001b[0m \u001b[0mname\u001b[0m \u001b[0;32min\u001b[0m \u001b[0mself\u001b[0m\u001b[0;34m.\u001b[0m\u001b[0m_info_axis\u001b[0m\u001b[0;34m:\u001b[0m\u001b[0;34m\u001b[0m\u001b[0m\n\u001b[1;32m   3080\u001b[0m                 \u001b[0;32mreturn\u001b[0m \u001b[0mself\u001b[0m\u001b[0;34m[\u001b[0m\u001b[0mname\u001b[0m\u001b[0;34m]\u001b[0m\u001b[0;34m\u001b[0m\u001b[0m\n\u001b[0;32m-> 3081\u001b[0;31m             \u001b[0;32mreturn\u001b[0m \u001b[0mobject\u001b[0m\u001b[0;34m.\u001b[0m\u001b[0m__getattribute__\u001b[0m\u001b[0;34m(\u001b[0m\u001b[0mself\u001b[0m\u001b[0;34m,\u001b[0m \u001b[0mname\u001b[0m\u001b[0;34m)\u001b[0m\u001b[0;34m\u001b[0m\u001b[0m\n\u001b[0m\u001b[1;32m   3082\u001b[0m \u001b[0;34m\u001b[0m\u001b[0m\n\u001b[1;32m   3083\u001b[0m     \u001b[0;32mdef\u001b[0m \u001b[0m__setattr__\u001b[0m\u001b[0;34m(\u001b[0m\u001b[0mself\u001b[0m\u001b[0;34m,\u001b[0m \u001b[0mname\u001b[0m\u001b[0;34m,\u001b[0m \u001b[0mvalue\u001b[0m\u001b[0;34m)\u001b[0m\u001b[0;34m:\u001b[0m\u001b[0;34m\u001b[0m\u001b[0m\n",
      "\u001b[0;31mAttributeError\u001b[0m: 'Series' object has no attribute 'split'"
     ]
    }
   ],
   "source": [
    "tunes.abc.apply(Cleaner.clean(tunes.abc.astype(str),tunes.setting), index='1')\n",
    "# tunes.abc.apply(lambda row: Cleaner.clean(tunes.abc.str, tunes.setting), axis=1)"
   ]
  },
  {
   "cell_type": "code",
   "execution_count": 54,
   "metadata": {},
   "outputs": [
    {
     "data": {
      "text/plain": [
       "numpy.dtype"
      ]
     },
     "execution_count": 54,
     "metadata": {},
     "output_type": "execute_result"
    }
   ],
   "source": []
  },
  {
   "cell_type": "code",
   "execution_count": null,
   "metadata": {},
   "outputs": [],
   "source": []
  }
 ],
 "metadata": {
  "kernelspec": {
   "display_name": "Python 3",
   "language": "python",
   "name": "python3"
  },
  "language_info": {
   "codemirror_mode": {
    "name": "ipython",
    "version": 3
   },
   "file_extension": ".py",
   "mimetype": "text/x-python",
   "name": "python",
   "nbconvert_exporter": "python",
   "pygments_lexer": "ipython3",
   "version": "3.6.3"
  }
 },
 "nbformat": 4,
 "nbformat_minor": 2
}
