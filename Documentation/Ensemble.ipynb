{
 "cells": [
  {
   "cell_type": "markdown",
   "metadata": {},
   "source": [
    "<center> \n",
    "    <h1> GANs &#119070; &nbsp;Reels </h1>\n",
    "</center>"
   ]
  },
  {
   "cell_type": "markdown",
   "metadata": {},
   "source": [
    "## Demo ##\n",
    "\n",
    "This notebook showcases our entire process of creating music using a Neural Network. At a high level, there are three main parts to our process of using a GAN to generate music. Namely:\n",
    "1. Encoding: \n",
    "    Converting our dataset of Irish music to a form suitable for the GAN.\n",
    "2. Training: \n",
    "    Feeding the curated data to our customized GAN, and decoding the results.\n",
    "3. Decoding: \n",
    "    Converting the results from our GAN to music "
   ]
  },
  {
   "cell_type": "markdown",
   "metadata": {},
   "source": [
    "### 1. Encoding ###\n",
    "\n",
    "This process can be broken down to 4 stages:\n",
    "1. Sourcing: Getting the dataset from TheSessions.org/\n",
    "2. Filtering: Pruning data that isn't in our relevant structure \n",
    "3. Cleaning: Using a structured notation to simplify ABC notation\n",
    "4. Vectorizing: Creating vectors out of the cleaned data\n"
   ]
  },
  {
   "cell_type": "code",
   "execution_count": 3,
   "metadata": {},
   "outputs": [
    {
     "name": "stdout",
     "output_type": "stream",
     "text": [
      "Folder \"../Data\" already exists. Skipping creation...\n",
      "Folder \"../Data/Clean/\" already exists. Skipping creation...\n",
      "Folder \"../Data/Statistics/\" already exists. Skipping creation...\n",
      "Folder \"../Data/Vectors/\" already exists. Skipping creation...\n",
      "Starting abc cleaning...\n",
      "10675/31093 tunes successfully cleaned!\n",
      "\n",
      "\n",
      "\n",
      "\n",
      "Finished cleaning abc strings.\n",
      "Starting vectorization process.\n",
      "Creating dataframe...\n",
      "Size of Initial Frame: 10675\n",
      "Size of Cleaned Frame: 6142\n",
      "\n",
      " - - - - - - - Table Data - - - - - - - \n",
      "\n",
      "0    [[64, 64, 64, 64, 2, 2, 2, 2, 2, 2, 2, 2, 2, 2...\n",
      "1    [[71, 71, 71, 71, 68, 68, 71, 71, 71, 71, 71, ...\n",
      "2    [[66, 66, 64, 64, -5, -5, -5, -5, -5, -5, -5, ...\n",
      "3    [[83, 83, 81, 81, 2, 2, 2, 2, 2, 2, 2, 2, 2, 2...\n",
      "4    [[62, 62, 62, 62, 62, 62, 57, 57, 59, 59, 57, ...\n",
      "Name: notes, dtype: object\n",
      " \n",
      "Random Tune Sample \n"
     ]
    },
    {
     "data": {
      "image/png": "[encoded data removed]",
      "text/plain": [
       "<Figure size 594x288 with 1 Axes>"
      ]
     },
     "metadata": {
      "image/png": {
       "height": 255.0,
       "width": 496.0
      }
     },
     "output_type": "display_data"
    },
    {
     "name": "stdout",
     "output_type": "stream",
     "text": [
      " \n",
      "finished entire process\n"
     ]
    }
   ],
   "source": [
    "# Entire Encoding Process\n",
    "%matplotlib inline\n",
    "from src.Generation import raw_to_npy as raw_data\n",
    "raw_data.raw_abc_to_npy_file(update=False)"
   ]
  },
  {
   "cell_type": "markdown",
   "metadata": {},
   "source": [
    "### 2. Training ###\n",
    "\n",
    "Our next step is to feed this curated data to our neural network. We opted for a Deconvolutional GAN since they are renowned for performing well on images, and making training a lot more stable. The parameters used were:\n",
    "- Stride: 2\n",
    "- Output function: Sigmoid\n",
    "- Padding: 4 x 4 x 16\n",
    "- Batch Size: 60\n",
    "\n",
    "At a high level, this process consists of:\n",
    "1. Building a Generator and a Discriminator\n",
    "2. Padding and transposing data to suit our GAN\n",
    "3. Checking for mode collapse every fixed number of iterations\n",
    "4. Converting output of the GAN to a Vectorized array\n",
    "\n",
    "Since training a Generative Adversarial Network takes a lot of computing power, we trained ours using Google Colab [found here](https://github.com/vin-nag/GANs-n-reels/blob/master/src/Model/MusicGAN.ipynb)"
   ]
  },
  {
   "cell_type": "markdown",
   "metadata": {},
   "source": [
    "#### Using the Generated GAN ####\n",
    "\n",
    "Once we trained our network, we use it to generate music"
   ]
  },
  {
   "cell_type": "code",
   "execution_count": 10,
   "metadata": {},
   "outputs": [
    {
     "name": "stderr",
     "output_type": "stream",
     "text": [
      "C:\\Users\\Vineel\\Desktop\\term\\lib\\site-packages\\keras\\engine\\saving.py:270: UserWarning: No training configuration found in save file: the model was *not* compiled. Compile it manually.\n",
      "  warnings.warn('No training configuration found in save file: '\n"
     ]
    }
   ],
   "source": [
    "import keras\n",
    "trained_GAN = keras.models.load_model(\"../src/Model/Trained/generator.h5\")"
   ]
  },
  {
   "cell_type": "code",
   "execution_count": 11,
   "metadata": {},
   "outputs": [],
   "source": [
    "import numpy as np\n",
    "noise = np.random.normal(0, 1, [1, 100]) #20 arrays of noise of shape [100,]\n",
    "generated_samples = trained_GAN.predict(noise)"
   ]
  },
  {
   "cell_type": "code",
   "execution_count": 12,
   "metadata": {},
   "outputs": [],
   "source": [
    "generated_samples = generated_samples[:,:-1, 4:-4]\n",
    "generated_samples = np.squeeze(generated_samples, axis=3) #Remove colour channel\n",
    "generated_samples = generated_samples.reshape([-1, 16, 16])"
   ]
  },
  {
   "cell_type": "code",
   "execution_count": 13,
   "metadata": {},
   "outputs": [],
   "source": [
    "MAX_PITCH = 80\n",
    "MIN_PITCH = 53\n",
    "MID_PITCH = (MAX_PITCH + MIN_PITCH) / 2\n",
    "RANGE = MAX_PITCH - MIN_PITCH\n",
    "\n",
    "#Map from [-1, 1] to [MIN_PITCH, MAX_PITCH]\n",
    "generated_samples = (RANGE * generated_samples) + MID_PITCH\n",
    "\n",
    "#Make values discrete\n",
    "generated_samples = generated_samples.astype(np.int32)"
   ]
  },
  {
   "cell_type": "markdown",
   "metadata": {},
   "source": [
    "### 3. Decoding ###\n",
    "\n",
    "After the training is done, we decode the resulting vector (provided the GAN didn't collapse) back to music, using essentially the inverse of our encoding process.\n",
    "\n",
    "This consists of:\n",
    "1. Converting Vectors to ABC Notation\n",
    "2. Converting ABC Notation to a format readable by a Music Player"
   ]
  },
  {
   "cell_type": "code",
   "execution_count": 15,
   "metadata": {},
   "outputs": [
    {
     "name": "stdout",
     "output_type": "stream",
     "text": [
      "Decoder Object Created\n",
      "Loading Vector Results from GAN...\n",
      " \n",
      "Selected Vector Generated\n",
      "[[53 54 58 58 58 58 59 59 71 71 71 70 70 70 75 76]\n",
      " [77 77 84 84 78 78 81 81 78 78 75 75 72 72 71 71]\n",
      " [63 63 66 65 69 70 63 63 77 78 67 66 64 62 66 66]\n",
      " [65 66 70 70 72 73 71 73 79 80 67 69 62 59 61 58]\n",
      " [54 53 59 58 58 58 59 59 71 71 70 70 70 70 75 75]\n",
      " [77 77 84 84 78 78 81 81 77 78 75 75 72 71 79 78]\n",
      " [87 88 87 86 83 84 86 86 84 84 88 89 84 84 85 84]\n",
      " [86 85 79 81 70 70 80 81 71 72 70 68 67 67 61 61]\n",
      " [54 54 59 58 58 58 59 59 71 71 71 70 70 69 75 75]\n",
      " [77 77 84 84 78 78 81 81 77 78 75 75 72 71 72 71]\n",
      " [63 64 66 64 67 69 64 65 76 76 67 67 63 63 66 66]\n",
      " [65 64 70 71 72 73 72 72 81 81 69 68 60 60 56 56]\n",
      " [54 54 59 59 58 58 58 58 71 71 71 71 69 69 76 75]\n",
      " [77 76 84 84 79 79 81 81 77 77 74 75 72 72 76 76]\n",
      " [80 82 87 86 85 85 86 86 84 82 87 87 88 88 81 83]\n",
      " [87 87 82 79 79 80 81 80 77 75 72 71 74 76 76 80]]\n",
      " \n",
      "Image of the Vector\n"
     ]
    },
    {
     "data": {
      "image/png": "[encoded data removed]",
      "text/plain": [
       "<Figure size 288x288 with 1 Axes>"
      ]
     },
     "metadata": {
      "image/png": {
       "height": 255.0,
       "width": 259.0
      }
     },
     "output_type": "display_data"
    },
    {
     "name": "stdout",
     "output_type": "stream",
     "text": [
      "Decoding Vectors to ABC format...\n",
      " \n",
      "ABC Notation Generated\n",
      "F,2^F,^A,4B,2B3^A3^def2c'2^f2a2^f2^d2c2B2^D2^FFA^A^D2f^fG^FED^F2F^F^A2c^cB^cg^gGADB,^C^A,^F,F,B,^A,3B,2B2^A4^d2f2c'2^f2a2f^f^d2cBg^f^d'e'^d'd'bc'd'2c'2e'f'c'2^c'c'd'^c'ga^A2^gaBc^A^GG2^C2^F,2B,^A,3B,2B3^A2A^d2f2c'2^f2a2f^f^d2cBcB^DE^FEGAEFe2G2^D2^F2FE^ABc^cc2a2A^GC2^G,2^F,2B,2^A,4B4A2e^dfec'2g2a2f2d^dc2e2^g^a^d'd'^c'2d'2c'^a^d'2e'2ab^d'2^ag2^ga^gf^dcBde2\n",
      " \n"
     ]
    }
   ],
   "source": [
    "%matplotlib inline\n",
    "# Decoding Process\n",
    "# import matplotlib as plt\n",
    "from src.Generation.Vectorizing import Decoding\n",
    "\n",
    "decoder = Decoding.Decoder(presentation=True)\n",
    "\n",
    "generated = Decoding.decode_single_vector_no_file(generated_samples, presentation=True)\n",
    "decoder.play(generated[0] + 'z32')"
   ]
  },
  {
   "cell_type": "code",
   "execution_count": 9,
   "metadata": {},
   "outputs": [
    {
     "name": "stdout",
     "output_type": "stream",
     "text": [
      "Loading Vector Results from GAN...\n",
      " \n",
      "Selected Vector Generated\n",
      "[[52 55 67 67 66 66 67 68 64 64 56 56 46 46 53 54]\n",
      " [63 62 63 64 69 69 61 61 59 60 57 56 58 58 57 57]\n",
      " [55 55 63 63 61 60 64 64 69 69 66 66 57 57 56 57]\n",
      " [54 55 67 66 69 69 70 70 65 64 67 65 74 74 69 71]\n",
      " [55 54 67 68 65 66 67 67 64 63 56 55 46 46 53 53]\n",
      " [63 63 63 63 69 70 61 61 60 58 56 57 58 58 57 58]\n",
      " [55 55 62 63 61 61 63 64 69 70 66 65 56 57 56 57]\n",
      " [53 53 66 65 70 70 69 68 64 63 66 67 73 73 72 72]\n",
      " [81 83 74 74 62 64 71 73 59 60 62 61 67 66 74 74]\n",
      " [72 73 78 78 74 74 75 77 86 85 77 77 82 83 83 82]\n",
      " [80 80 79 79 76 76 68 67 49 49 53 53 56 56 67 66]\n",
      " [68 68 59 58 54 54 62 60 60 59 58 58 65 64 72 71]\n",
      " [83 84 75 76 64 65 72 73 59 60 62 62 68 68 74 74]\n",
      " [71 73 78 78 75 74 76 77 85 85 78 77 82 82 83 81]\n",
      " [80 79 81 80 75 75 68 67 49 49 53 54 56 56 67 67]\n",
      " [67 66 59 59 55 55 62 62 59 60 58 59 59 61 60 57]]\n",
      " \n",
      "Image of the Vector\n"
     ]
    },
    {
     "data": {
      "image/png": "[encoded data removed]",
      "text/plain": [
       "<Figure size 288x288 with 1 Axes>"
      ]
     },
     "metadata": {
      "image/png": {
       "height": 255.0,
       "width": 259.0
      }
     },
     "output_type": "display_data"
    },
    {
     "name": "stdout",
     "output_type": "stream",
     "text": [
      "Decoding Vectors to ABC format...\n",
      " \n",
      "ABC Notation Generated\n",
      "E,2G,G2^F2G^GE2^G,2^A,,2F,^F,^DD^DEA2^C2B,CA,^G,^A,2A,2G,2^D2^CCE2A2^F2A,2^G,A,^F,G,G^FA2^A2FEGFd2ABG,^F,G^GF^FG2E^D^G,G,^A,,2F,2^D4A^A^C2C^A,^G,A,^A,2A,^A,G,2D^D^C2^DEA^A^FF^G,A,^G,A,F,2^FF^A2A^GE^D^FG^c2c2abd2DEB^cB,CD^CG^Fd2c^c^f2d2^dfd'^c'f2^ab2^a^g2g2e2^GG^C,2F,2^G,2G^F^G2B,^A,^F,2DC2B,^A,2FEcBbc'^deEFc^cB,CD2^G2d2B^c^f2^ddef^c'2^ff^a2ba^gga^g^d2^GG^C,2F,^F,^G,2G3^FB,2G,2D2B,C^A,B,2^CC\n",
      " \n"
     ]
    }
   ],
   "source": [
    "# An interesting tune generated earlier\n",
    "num = 7\n",
    "\n",
    "generated = Decoding.decode_single_vector('generated_samples.npy', num, presentation=True)\n",
    "decoder.play(generated[num] + 'z32')"
   ]
  },
  {
   "cell_type": "code",
   "execution_count": null,
   "metadata": {},
   "outputs": [],
   "source": []
  }
 ],
 "metadata": {
  "kernelspec": {
   "display_name": "Python 3",
   "language": "python",
   "name": "python3"
  },
  "language_info": {
   "codemirror_mode": {
    "name": "ipython",
    "version": 3
   },
   "file_extension": ".py",
   "mimetype": "text/x-python",
   "name": "python",
   "nbconvert_exporter": "python",
   "pygments_lexer": "ipython3",
   "version": "3.6.2"
  }
 },
 "nbformat": 4,
 "nbformat_minor": 1
}
