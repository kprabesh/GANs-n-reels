{
 "cells": [
  {
   "cell_type": "code",
   "execution_count": 5,
   "metadata": {},
   "outputs": [],
   "source": [
    "# Imports\n",
    "from Tunes_cleaned import tunes as raw_tunes\n",
    "import Tune_Cleaning\n",
    "import numpy as np\n",
    "import pandas as pd\n",
    "import matplotlib.pyplot as plt\n",
    "import importlib\n",
    "%matplotlib inline"
   ]
  },
  {
   "cell_type": "code",
   "execution_count": 15,
   "metadata": {},
   "outputs": [],
   "source": [
    "importlib.reload(Tune_Cleaning)\n",
    "pass"
   ]
  },
  {
   "cell_type": "code",
   "execution_count": 2,
   "metadata": {},
   "outputs": [
    {
     "name": "stdout",
     "output_type": "stream",
     "text": [
      "30840 Songs imported\n"
     ]
    }
   ],
   "source": [
    "tunes = pd.DataFrame.from_dict(raw_tunes, orient='index')\n",
    "print(\"{} Songs imported\".format(tunes.shape[0]))"
   ]
  },
  {
   "cell_type": "code",
   "execution_count": 16,
   "metadata": {},
   "outputs": [
    {
     "name": "stdout",
     "output_type": "stream",
     "text": [
      "After Cleaning 30840 songs remain\n"
     ]
    },
    {
     "data": {
      "text/html": [
       "<div>\n",
       "<style scoped>\n",
       "    .dataframe tbody tr th:only-of-type {\n",
       "        vertical-align: middle;\n",
       "    }\n",
       "\n",
       "    .dataframe tbody tr th {\n",
       "        vertical-align: top;\n",
       "    }\n",
       "\n",
       "    .dataframe thead th {\n",
       "        text-align: right;\n",
       "    }\n",
       "</style>\n",
       "<table border=\"1\" class=\"dataframe\">\n",
       "  <thead>\n",
       "    <tr style=\"text-align: right;\">\n",
       "      <th></th>\n",
       "      <th>mode</th>\n",
       "      <th>type</th>\n",
       "      <th>tune</th>\n",
       "      <th>setting</th>\n",
       "      <th>meter</th>\n",
       "      <th>abc</th>\n",
       "    </tr>\n",
       "  </thead>\n",
       "  <tbody>\n",
       "    <tr>\n",
       "      <th>0</th>\n",
       "      <td>Edorian</td>\n",
       "      <td>reel</td>\n",
       "      <td>1</td>\n",
       "      <td>1</td>\n",
       "      <td>4/4</td>\n",
       "      <td>|:D2|EBBAB2EB|B2ABdBAG|FDADBDAD|FDADdAFD|EBBAB...</td>\n",
       "    </tr>\n",
       "    <tr>\n",
       "      <th>1</th>\n",
       "      <td>Dmajor</td>\n",
       "      <td>reel</td>\n",
       "      <td>2</td>\n",
       "      <td>2</td>\n",
       "      <td>4/4</td>\n",
       "      <td>|A2FAA2dB|A2FABEE2|A2FAA2Bd|egfdedBd|A2FAA2dB|...</td>\n",
       "    </tr>\n",
       "    <tr>\n",
       "      <th>2</th>\n",
       "      <td>Dmajor</td>\n",
       "      <td>hornpipe</td>\n",
       "      <td>4</td>\n",
       "      <td>4</td>\n",
       "      <td>4/4</td>\n",
       "      <td>|:ag|faefdeAF|DFAdf2ef|gbegdeAF|GBAGE2ag|faefd...</td>\n",
       "    </tr>\n",
       "    <tr>\n",
       "      <th>3</th>\n",
       "      <td>Gmajor</td>\n",
       "      <td>reel</td>\n",
       "      <td>8</td>\n",
       "      <td>8</td>\n",
       "      <td>4/4</td>\n",
       "      <td>|:G2GDEDEG|AGABd2Bd|egedBAGA|BAGEEDDE|G2GDEDEG...</td>\n",
       "    </tr>\n",
       "    <tr>\n",
       "      <th>4</th>\n",
       "      <td>Amajor</td>\n",
       "      <td>reel</td>\n",
       "      <td>11</td>\n",
       "      <td>11</td>\n",
       "      <td>4/4</td>\n",
       "      <td>|:ABcdeAce|fedfedcB|ABcdeAce|1feBcd2cB:|2feBcd...</td>\n",
       "    </tr>\n",
       "  </tbody>\n",
       "</table>\n",
       "</div>"
      ],
      "text/plain": [
       "      mode      type tune setting meter  \\\n",
       "0  Edorian      reel    1       1   4/4   \n",
       "1   Dmajor      reel    2       2   4/4   \n",
       "2   Dmajor  hornpipe    4       4   4/4   \n",
       "3   Gmajor      reel    8       8   4/4   \n",
       "4   Amajor      reel   11      11   4/4   \n",
       "\n",
       "                                                 abc  \n",
       "0  |:D2|EBBAB2EB|B2ABdBAG|FDADBDAD|FDADdAFD|EBBAB...  \n",
       "1  |A2FAA2dB|A2FABEE2|A2FAA2Bd|egfdedBd|A2FAA2dB|...  \n",
       "2  |:ag|faefdeAF|DFAdf2ef|gbegdeAF|GBAGE2ag|faefd...  \n",
       "3  |:G2GDEDEG|AGABd2Bd|egedBAGA|BAGEEDDE|G2GDEDEG...  \n",
       "4  |:ABcdeAce|fedfedcB|ABcdeAce|1feBcd2cB:|2feBcd...  "
      ]
     },
     "execution_count": 16,
     "metadata": {},
     "output_type": "execute_result"
    }
   ],
   "source": [
    "tunes_clean = Tune_Cleaning.filter_tunes(tunes)\n",
    "print(\"After Cleaning {} songs remain\".format(tunes.shape[0]))\n",
    "tunes_clean.head(5)"
   ]
  },
  {
   "cell_type": "code",
   "execution_count": 20,
   "metadata": {},
   "outputs": [
    {
     "data": {
      "text/html": [
       "<div>\n",
       "<style scoped>\n",
       "    .dataframe tbody tr th:only-of-type {\n",
       "        vertical-align: middle;\n",
       "    }\n",
       "\n",
       "    .dataframe tbody tr th {\n",
       "        vertical-align: top;\n",
       "    }\n",
       "\n",
       "    .dataframe thead th {\n",
       "        text-align: right;\n",
       "    }\n",
       "</style>\n",
       "<table border=\"1\" class=\"dataframe\">\n",
       "  <thead>\n",
       "    <tr style=\"text-align: right;\">\n",
       "      <th></th>\n",
       "      <th>mode</th>\n",
       "      <th>type</th>\n",
       "      <th>tune</th>\n",
       "      <th>setting</th>\n",
       "      <th>meter</th>\n",
       "      <th>abc</th>\n",
       "    </tr>\n",
       "  </thead>\n",
       "  <tbody>\n",
       "    <tr>\n",
       "      <th>0</th>\n",
       "      <td>Edorian</td>\n",
       "      <td>reel</td>\n",
       "      <td>1</td>\n",
       "      <td>1</td>\n",
       "      <td>4/4</td>\n",
       "      <td>|D2|EBBAB2EB|B2ABdBAG|FDADBDAD|FDADdAFD|EBBAB2...</td>\n",
       "    </tr>\n",
       "    <tr>\n",
       "      <th>1</th>\n",
       "      <td>Dmajor</td>\n",
       "      <td>reel</td>\n",
       "      <td>2</td>\n",
       "      <td>2</td>\n",
       "      <td>4/4</td>\n",
       "      <td>|A2FAA2dB|A2FABEE2|A2FAA2Bd|egfdedBd|A2FAA2dB|...</td>\n",
       "    </tr>\n",
       "    <tr>\n",
       "      <th>2</th>\n",
       "      <td>Dmajor</td>\n",
       "      <td>hornpipe</td>\n",
       "      <td>4</td>\n",
       "      <td>4</td>\n",
       "      <td>4/4</td>\n",
       "      <td>|ag|faefdeAF|DFAdf2ef|gbegdeAF|GBAGE2ag|faefde...</td>\n",
       "    </tr>\n",
       "    <tr>\n",
       "      <th>3</th>\n",
       "      <td>Gmajor</td>\n",
       "      <td>reel</td>\n",
       "      <td>8</td>\n",
       "      <td>8</td>\n",
       "      <td>4/4</td>\n",
       "      <td>|G2GDEDEG|AGABd2Bd|egedBAGA|BAGEEDDE|G2GDEDEG|...</td>\n",
       "    </tr>\n",
       "    <tr>\n",
       "      <th>4</th>\n",
       "      <td>Amajor</td>\n",
       "      <td>reel</td>\n",
       "      <td>11</td>\n",
       "      <td>11</td>\n",
       "      <td>4/4</td>\n",
       "      <td>|ABcdeAce|fedfedcB|ABcdeAce|1feBcd2cB|2feBcdef...</td>\n",
       "    </tr>\n",
       "  </tbody>\n",
       "</table>\n",
       "</div>"
      ],
      "text/plain": [
       "      mode      type tune setting meter  \\\n",
       "0  Edorian      reel    1       1   4/4   \n",
       "1   Dmajor      reel    2       2   4/4   \n",
       "2   Dmajor  hornpipe    4       4   4/4   \n",
       "3   Gmajor      reel    8       8   4/4   \n",
       "4   Amajor      reel   11      11   4/4   \n",
       "\n",
       "                                                 abc  \n",
       "0  |D2|EBBAB2EB|B2ABdBAG|FDADBDAD|FDADdAFD|EBBAB2...  \n",
       "1  |A2FAA2dB|A2FABEE2|A2FAA2Bd|egfdedBd|A2FAA2dB|...  \n",
       "2  |ag|faefdeAF|DFAdf2ef|gbegdeAF|GBAGE2ag|faefde...  \n",
       "3  |G2GDEDEG|AGABd2Bd|egedBAGA|BAGEEDDE|G2GDEDEG|...  \n",
       "4  |ABcdeAce|fedfedcB|ABcdeAce|1feBcd2cB|2feBcdef...  "
      ]
     },
     "execution_count": 20,
     "metadata": {},
     "output_type": "execute_result"
    }
   ],
   "source": [
    "tunes_clean = Tune_Cleaning.clean_tunes(tunes_clean)\n",
    "tunes_clean.head(5)"
   ]
  },
  {
   "cell_type": "code",
   "execution_count": 21,
   "metadata": {},
   "outputs": [],
   "source": [
    "def vectorize_tunes(frame):\n",
    "    \"\"\"\n",
    "    given a frame with an 'abc' column, it creates two new columns, 'abc_unfolded', 'timing_vector' and 'abc_vectorized'\n",
    "    abc_unfolded is abc notation but with timing data made explicit (each note representing a 16th note)\n",
    "    timing_vector is a vector where 0s represent distinct notes and 1s represent a continued note from the previous step\n",
    "    abc_vectorized is the same as abc_unfolded but with the letters converted into numbers\n",
    "    \"\"\"\n",
    "    pass"
   ]
  },
  {
   "cell_type": "code",
   "execution_count": 30,
   "metadata": {},
   "outputs": [],
   "source": [
    "def unfold_abc(abc_string):\n",
    "    \"\"\"\n",
    "    given an abc list returns a tuple of 2 lists: notes and holds\n",
    "    \"\"\"\n",
    "    abc_str=\"\"\n",
    "    tunevec=np.zeros()\n",
    "    print(abc_string)"
   ]
  },
  {
   "cell_type": "code",
   "execution_count": 23,
   "metadata": {},
   "outputs": [],
   "source": [
    "def unfold_bar():\n",
    "    \"\"\"\n",
    "    given a bar of abc notation it expands each note to represent timing information explicitly\n",
    "    \"\"\"\n",
    "    pass"
   ]
  },
  {
   "cell_type": "code",
   "execution_count": null,
   "metadata": {},
   "outputs": [],
   "source": [
    "def expand_bar(bar):\n",
    "    \"\"\"\n",
    "    Takes a str representing a single bar of notes (no barlines)\n",
    "    Returns a string with each 16th note as it's own character\n",
    "    Note: because of octaves and other random noise bars are NOT guaranteed to be 16 characters\n",
    "    \"\"\"\n",
    "    output = \"\"\n",
    "    if len(bar)==0:\n",
    "        return output\n",
    "    if bar[0].isnumeric():\n",
    "        bar = bar[1:]\n",
    "    #if the bar contains only letters then all letters are of equal length\n",
    "    if bar.isalpha():\n",
    "        time_value = 16//len(bar)\n",
    "        for char in bar:\n",
    "            output+= char*time_value\n",
    "        return output\n",
    "    \n",
    "    # if the bar contains more timing information, we must parse it\n",
    "    \n",
    "    # === Long Notes ===\n",
    "    # long notes are notes with a number following them, c2 is twice the length of c\n",
    "    # long notes regex group\n",
    "    long_notes_re = re.compile('([a-zA-Z],*\\'*(\\d))')\n",
    "    long_notes = long_notes_re.findall(bar)\n",
    "    ### inline func to replace long notes\n",
    "    def replace_long_notes(note):\n",
    "        \"\"\"\n",
    "        Takes a re match and replaces it with \\d occurences of the letter\n",
    "        \"\"\"\n",
    "        str = note.group()[:-1]\n",
    "        n = int(note.group(2))\n",
    "        return str*n\n",
    "    ### endfunc\n",
    "    if long_notes:\n",
    "        bar = long_notes_re.sub(replace_long_notes,bar)\n",
    "        \n",
    "    # === SHORT NOTES ===\n",
    "    # short notes are notes with a / and a number, c/2 is half the length of c\n",
    "    # short notes regex group, group 2 matches a number if it is present\n",
    "    highest_mult = 2 #default for / in ABC notation is to halve the length\n",
    "    short_notes_re = re.compile('([a-zA-Z],*\\'*)(/)(\\d*)')\n",
    "    short_notes = short_notes_re.findall(bar)\n",
    "    if short_notes:\n",
    "        # check if any of the note divisions are higher than the default of 2\n",
    "        for note, slash, num in short_notes:\n",
    "            if num.isnumeric and num is not \"\":\n",
    "#                 print(\"{} {} {} {}\".format(note,slash,type(num),type(highest_mult)))\n",
    "                if int(num)>int(highest_mult):\n",
    "                    highest_mult=int(num)\n",
    "    # get every non-short note and multiply it by the highest multiple value\n",
    "    not_short_notes_re = re.compile('[a-zA-Z],*(?!/)')\n",
    "    not_short_notes = not_short_notes_re.findall(bar)    \n",
    "    ### inline function to replace notes\n",
    "    def lengthen_non_short_notes(match_str):\n",
    "        return match_str.group()*highest_mult\n",
    "    ### endfunc\n",
    "    # lengthen all notes that aren't 'short notes'\n",
    "    bar = not_short_notes_re.sub(lengthen_non_short_notes, bar)\n",
    "    def replace_short_notation(match_str):\n",
    "        return match_str.group(1)\n",
    "    bar = short_notes_re.sub(replace_short_notation, bar)\n",
    "    #lastly some bars need to be expanded to exactly 16 notes\n",
    "    #note: this won't fix octave characters as they correspond to 2 characters right now, the same test should be done when the letters are converted to numbers\n",
    "    if len(bar)!=0 and 16%len(bar)==0:\n",
    "        new_bar = \"\"\n",
    "        time_value = 16//len(bar)\n",
    "        for char in bar:\n",
    "            new_bar+= char*time_value\n",
    "        bar = new_bar\n",
    "    return bar"
   ]
  },
  {
   "cell_type": "code",
   "execution_count": 39,
   "metadata": {},
   "outputs": [
    {
     "name": "stdout",
     "output_type": "stream",
     "text": [
      "E2GABGAB|EGBdc2A2|1cBceBABd|ABAGF2GF|2cBcedcdg|fefde4|gagfefgf|gagfdefe|fafedefd|1e2edB4|2efede4|\n",
      "f|edcBAEE/E/E|AEFDEA,A,/A,/A,|\n",
      "g|dBABGGGg|dBAGBBBg|dBABGGGe|dBgBAAAg|dBABGGGg|dBAGBBBe|degdegde|BdABGGG|g|e2dedBgd|e2deBBBg|e2dedBgd|e2dBAAAg|e2dedBgd|e2deBBBe|degdegde|BdABGGG|g|GGGBGGGB|GBAcBdBg|GGGBGGGe|dBgBAAAg|GGGBGGGB|GBAcBdBg|egdedeBd|BdABGGG|g|dBBdecce|dBgdBBBg|dBBdecce|dBgBAAAg|dBBdecce|dBgdBBBe|degdegde|BdABGGG|\n",
      "|B2ABBDGB|c2BcEccE|BDGBBdcd|ADFAAdcA|B2ABBDGB|c2BcEccE|BDGBADFA|G4G4|d2BdGBBD|c2BcEccE|BDGBBdcd|ADFAAdcA|d2BdGBBD|c2BcEccE|BDGBADFA|G4G4|BDD2DBBD|cEE2Ecdc|BDD2Gdcd|ADFAAdcA|BDD2DBBD|cEE2Ecdc|BDGBADFA|G4G4|d2d2BcdB|cEEcEGcA|BDD2Gdcd|ADFAAdcA|d2d2BcdB|cEEcEGcA|BDGBADFA|G4G4|BDDBDDBD|cEEcEEcE|BDDBDDBD|ADBDcDdc|BDDBDDBD|cEEcEEcE|BDGBADFA|G4G4|\n",
      ":2/4d/g/|ed/g/ed/g/|ed-dG|GG/G/AG|E2-EA/B/|c/B/A/B/cA/B/|c/B/A/B/cF/E/|De|Bd-dd/g/|ed/g/ed/g/|ed-dG|GG/G/A|E2-EA/B/|c/B/A/B/cA/B/|c/B/A/B/cF/E/|DD/D/EF/F/|GD/G/FE/4F/4E/|D2-D|G/A/|B/A/B/A/BD/D/|EE-EA|c/d/c/d/cA|FF/F/FG|AF/4G/4F/ED|DcBA|BGED|DD-DG/A/|B/A/B/A/BD/|EE-EA/B/|c/d/c/d/cA|F>FFG|AF/4G/4F/ED|cA/4B/4A/F|G2-G|\n",
      "B3AGBdB|cBAGFGAF|DGG2A3B|cBAGFGAF|DGG2B3A|GBdBc2Bc|dBcABGAG|FGAcBGG|B|dgg2bgg2|defgafgf|dgg2dgge|fdcABGGB|dgg2bgg2|defgafgf|dgg2dgg2|a3gfdcA|\n",
      "Bc|d2dBdcBA|G3AE2GE|D3E/G/G2AB|c2B2A2Bc|d2dBdcBA|G3AE2GE|D3EG3A|G2G2G2GA|B3AG2AB|c2d2d2ge|d2dB/A/G2AB|c2c2c2Bc|d2dBdcBA|G2A2E2GE|D3EG3A|G2G2G2GA|B2A2G2AB|c2d2d2ge|d3B/A/G2AB|c2c2c2Bc|d2B2dcBA|G2A2E2GE|D3EG2G2|G2G2G2|\n",
      "G2BddGBd|dGBdcAAD|G2BddGBd|ecAcBGGF|G2BddGBd|dGBdcAA2|G2BddGBd|ecAcBGG2|g2gde2eg|d2BdcAA2|g2gde2eg|dBAcBGG2|g2gde2eg|d2BdcAA2|GABcdefa|gedcBGG2|\n",
      "|d>c|B2g2g>dB>G|c2e2e2g>e|d>Bd>Be>dc>B|A>Bc>AG>FE>D|G2g2g>dB>G|c2e2e2g2|d>Bd>Be>cA>F|G2G2G2|d>c|B>GB>GB2d2|e>ce>ce2g2|d>Bd>Be>dc>B|A>Bc>AG>FE>D|B>GB>GB2d2|e>ce>ce2g2|d>Bd>Be>cA>F|G2G2G2|\n",
      "A2|D3EF2G2|A2d2A3G|F2D2D2EF|G3EC2E2|!D3EF2G2|A2d2A3G|F2EDC2E2|1D4D2A2|2D4D2cB|!A2d2d2cB|A2d2A3G|F2D2D2EF|G3EC2cB|!A2d2d2cB|A2d2A3G|F2EDC2E2|D4D2cB|!A2d2d2cB|A2d2A3G|F2D2D2EF|G3EC2E2|!DEFGFGAB|ABcdA3G|F2EDC2E2|D4D4|\n"
     ]
    }
   ],
   "source": [
    "test_tune = tunes_clean.sample(10)\n",
    "for tune in test_tune['abc']:\n",
    "    unfold_abc(tune)"
   ]
  },
  {
   "cell_type": "code",
   "execution_count": null,
   "metadata": {},
   "outputs": [],
   "source": []
  }
 ],
 "metadata": {
  "kernelspec": {
   "display_name": "Python 3",
   "language": "python",
   "name": "python3"
  },
  "language_info": {
   "codemirror_mode": {
    "name": "ipython",
    "version": 3
   },
   "file_extension": ".py",
   "mimetype": "text/x-python",
   "name": "python",
   "nbconvert_exporter": "python",
   "pygments_lexer": "ipython3",
   "version": "3.6.4"
  }
 },
 "nbformat": 4,
 "nbformat_minor": 2
}
