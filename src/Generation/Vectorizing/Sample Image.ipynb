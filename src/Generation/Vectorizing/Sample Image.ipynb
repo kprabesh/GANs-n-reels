{
 "cells": [
  {
   "cell_type": "markdown",
   "metadata": {},
   "source": [
    "<h1>An example of Irish Music represented graphically</h1>\n",
    "<h3>Converting ABC notation into a vectorized form to visually represent the output, with the intention of training machine learning algorithms on the resulting images</h3>\n",
    "Note, this notebook was created as a simple proof of concept. Proper python modules for cleaning, filtering, and vectorization of the dataset will follow, hopefully with less loss of the original dataset."
   ]
  },
  {
   "cell_type": "code",
   "execution_count": 1,
   "metadata": {},
   "outputs": [],
   "source": [
    "# Imports\n",
    "from Tunes_cleaned import tunes as raw_tunes\n",
    "import random\n",
    "import numpy as np\n",
    "import pandas as pd\n",
    "import matplotlib.pyplot as plt\n",
    "import re\n",
    "%matplotlib inline\n",
    "plt.rc('xtick', labelsize=20) \n",
    "plt.rc('ytick', labelsize=10) "
   ]
  },
  {
   "cell_type": "code",
   "execution_count": 2,
   "metadata": {},
   "outputs": [],
   "source": [
    "tunes = pd.DataFrame.from_dict(raw_tunes, orient='index')"
   ]
  },
  {
   "cell_type": "markdown",
   "metadata": {},
   "source": [
    "<h2>Data filtering</h2>\n",
    "We will limit our dataset to only songs in 4/4, with no tuples or non-diatonic notes"
   ]
  },
  {
   "cell_type": "code",
   "execution_count": 3,
   "metadata": {},
   "outputs": [],
   "source": [
    "tunes_clean = tunes.drop(tunes[tunes['meter']!='4/4'].index)"
   ]
  },
  {
   "cell_type": "code",
   "execution_count": 4,
   "metadata": {},
   "outputs": [],
   "source": [
    "def remove_remarks(frame):\n",
    "    \"\"\"\n",
    "    Remarks are extraneous information contained in square brackets\n",
    "    \"\"\"\n",
    "    frame['abc'] = frame['abc'].str.replace('\\[.*?\\]', '')\n",
    "    return frame"
   ]
  },
  {
   "cell_type": "code",
   "execution_count": 5,
   "metadata": {},
   "outputs": [],
   "source": [
    "def remove_tuples(frame):\n",
    "    \"\"\"\n",
    "    Tuplets are occurences of irrational time\n",
    "    \"\"\"\n",
    "    return frame.drop(frame[frame['abc'].str.count('\\(\\d')>0].index)"
   ]
  },
  {
   "cell_type": "code",
   "execution_count": 6,
   "metadata": {},
   "outputs": [],
   "source": [
    "def remove_non_diatonic(frame):\n",
    "    \"\"\"\n",
    "    Non-diatonic notes are notes not found within the default key signature\n",
    "    \"\"\"\n",
    "    return frame.drop(frame[frame['abc'].str.count('\\^|_|=')>0].index)"
   ]
  },
  {
   "cell_type": "code",
   "execution_count": 7,
   "metadata": {},
   "outputs": [],
   "source": [
    "def remove_small_strings(frame, len):\n",
    "    \"\"\"\n",
    "    Removes all rows below a certain length\n",
    "    \"\"\"\n",
    "    return frame.drop(frame[frame.abc.str.len()<len].index)"
   ]
  },
  {
   "cell_type": "code",
   "execution_count": 8,
   "metadata": {},
   "outputs": [],
   "source": [
    "def remove_ornamentation(frame):\n",
    "    \"\"\"\n",
    "    Ornamentation represents trills or other performance enhancers\n",
    "    See http://abcnotation.com/wiki/abc:standard:v2.1#decorations\n",
    "    .       staccato mark\n",
    "    ~       Irish roll\n",
    "    H       fermata\n",
    "    L       accent or emphasis\n",
    "    M       lowermordent\n",
    "    O       coda\n",
    "    P       uppermordent\n",
    "    S       segno\n",
    "    T       trill\n",
    "    u       up-bow\n",
    "    v       down-bow\n",
    "    \"\"\"\n",
    "    frame['abc'] = frame['abc'].str.replace(\"[\\.~HLMOPSTuv]\",'')\n",
    "    return frame"
   ]
  },
  {
   "cell_type": "code",
   "execution_count": 9,
   "metadata": {},
   "outputs": [],
   "source": [
    "def remove_quotations(frame):\n",
    "    \"\"\"\n",
    "    Chord symbols are sypically placed within quotation marks\n",
    "    \"\"\"\n",
    "    frame['abc'] = frame['abc'].str.replace('\".*?\"', '')\n",
    "    return frame"
   ]
  },
  {
   "cell_type": "code",
   "execution_count": 10,
   "metadata": {},
   "outputs": [],
   "source": [
    "def consolidate_barlines(frame):\n",
    "    \"\"\"\n",
    "    Turns all barlines and repeatlines into single '|' characters\n",
    "    see http://abcnotation.com/wiki/abc:standard:v2.1#repeat_bar_symbols\n",
    "    \"\"\"\n",
    "    frame['abc'] = frame['abc'].str.replace('\\|+|\\|:|\\|[|:\\||]\\|', '|')\n",
    "    return frame"
   ]
  },
  {
   "cell_type": "markdown",
   "metadata": {},
   "source": [
    "<h4>NOTE: This implementation currently ignores repeats entirely.</h4>"
   ]
  },
  {
   "cell_type": "code",
   "execution_count": 11,
   "metadata": {},
   "outputs": [],
   "source": [
    "tunes_clean = remove_remarks(tunes_clean)\n",
    "tunes_clean = remove_tuples(tunes_clean) \n",
    "tunes_clean = remove_non_diatonic(tunes_clean)\n",
    "tunes_clean = remove_small_strings(tunes_clean,32)\n",
    "tunes_clean = remove_ornamentation(tunes_clean)\n",
    "tunes_clean = remove_quotations(tunes_clean)\n",
    "tunes_clean = tunes_clean.drop_duplicates(subset='abc')\n",
    "tunes_clean = consolidate_barlines(tunes_clean) #barlines\n",
    "tunes_clean['abc'] = tunes_clean['abc'].str.replace(':','') #repeats\n",
    "tunes_clean['abc'] = tunes_clean['abc'].str.replace('[<>]','') #syncopation\n",
    "tunes_clean['abc'] = tunes_clean['abc'].str.replace('[-()]','') #ties and slurs"
   ]
  },
  {
   "cell_type": "markdown",
   "metadata": {},
   "source": [
    "<h2> \"Expanding\" the songs into 16th notes </h2>\n",
    "Every note will be represented as a series of 16'th notes. In this implementation no note length data is preserved, meaning there is no functional difference between a quarter note and 4 16'th notes. Obviously this is a significant shortcoming that will be addressed."
   ]
  },
  {
   "cell_type": "code",
   "execution_count": 12,
   "metadata": {},
   "outputs": [],
   "source": [
    "def get_rand_songs(frame, num=10):\n",
    "    songs = frame.sample(n=num)['abc']\n",
    "    return songs"
   ]
  },
  {
   "cell_type": "code",
   "execution_count": 13,
   "metadata": {},
   "outputs": [],
   "source": [
    "def split_by_bar(abc_string):\n",
    "    \"\"\"\n",
    "    Takes a string of full ABC notation and splits it into lists representing individual bars\n",
    "    \"\"\"\n",
    "    result = abc_string.split('|')\n",
    "    return [x for x in result if x != '']"
   ]
  },
  {
   "cell_type": "code",
   "execution_count": 14,
   "metadata": {},
   "outputs": [],
   "source": [
    "def expand_bar(bar):\n",
    "    \"\"\"\n",
    "    Takes a str representing a single bar of notes (no barlines)\n",
    "    Returns a string with each 16th note as it's own character\n",
    "    Note: because of octaves and other random noise bars are NOT guaranteed to be 16 characters\n",
    "    \"\"\"\n",
    "    output = \"\"\n",
    "    if len(bar)==0:\n",
    "        return output\n",
    "    if bar[0].isnumeric():\n",
    "        bar = bar[1:]\n",
    "    #if the bar contains only letters then all letters are of equal length\n",
    "    if bar.isalpha():\n",
    "        time_value = 16//len(bar)\n",
    "        for char in bar:\n",
    "            output+= char*time_value\n",
    "        return output\n",
    "    \n",
    "    # if the bar contains more timing information, we must parse it\n",
    "    \n",
    "    # === Long Notes ===\n",
    "    # long notes are notes with a number following them, c2 is twice the length of c\n",
    "    # long notes regex group\n",
    "    long_notes_re = re.compile('([a-zA-Z],*\\'*(\\d))')\n",
    "    long_notes = long_notes_re.findall(bar)\n",
    "    ### inline func to replace long notes\n",
    "    def replace_long_notes(note):\n",
    "        \"\"\"\n",
    "        Takes a re match and replaces it with \\d occurences of the letter\n",
    "        \"\"\"\n",
    "        str = note.group()[:-1]\n",
    "        n = int(note.group(2))\n",
    "        return str*n\n",
    "    ### endfunc\n",
    "    if long_notes:\n",
    "        bar = long_notes_re.sub(replace_long_notes,bar)\n",
    "        \n",
    "    # === SHORT NOTES ===\n",
    "    # short notes are notes with a / and a number, c/2 is half the length of c\n",
    "    # short notes regex group, group 2 matches a number if it is present\n",
    "    highest_mult = 2 #default for / in ABC notation is to halve the length\n",
    "    short_notes_re = re.compile('([a-zA-Z],*\\'*)(/)(\\d*)')\n",
    "    short_notes = short_notes_re.findall(bar)\n",
    "    if short_notes:\n",
    "        # check if any of the note divisions are higher than the default of 2\n",
    "        for note, slash, num in short_notes:\n",
    "            if num.isnumeric and num is not \"\":\n",
    "#                 print(\"{} {} {} {}\".format(note,slash,type(num),type(highest_mult)))\n",
    "                if int(num)>int(highest_mult):\n",
    "                    highest_mult=int(num)\n",
    "    # get every non-short note and multiply it by the highest multiple value\n",
    "    not_short_notes_re = re.compile('[a-zA-Z],*(?!/)')\n",
    "    not_short_notes = not_short_notes_re.findall(bar)    \n",
    "    ### inline function to replace notes\n",
    "    def lengthen_non_short_notes(match_str):\n",
    "        return match_str.group()*highest_mult\n",
    "    ### endfunc\n",
    "    # lengthen all notes that aren't 'short notes'\n",
    "    bar = not_short_notes_re.sub(lengthen_non_short_notes, bar)\n",
    "    def replace_short_notation(match_str):\n",
    "        return match_str.group(1)\n",
    "    bar = short_notes_re.sub(replace_short_notation, bar)\n",
    "    #lastly some bars need to be expanded to exactly 16 notes\n",
    "    #note: this won't fix octave characters as they correspond to 2 characters right now, the same test should be done when the letters are converted to numbers\n",
    "    if len(bar)!=0 and 16%len(bar)==0:\n",
    "        new_bar = \"\"\n",
    "        time_value = 16//len(bar)\n",
    "        for char in bar:\n",
    "            new_bar+= char*time_value\n",
    "        bar = new_bar\n",
    "    return bar"
   ]
  },
  {
   "cell_type": "markdown",
   "metadata": {},
   "source": [
    "<h2>Visualizing some examples</h2>\n",
    "Let's take a sample of 50 songs and visualize what we can. In this implementation any song that contains bars whos length's are not 16 are discarded entirely. In a proper implementation this will need to be addressed, perhaps through the use of padding."
   ]
  },
  {
   "cell_type": "code",
   "execution_count": 15,
   "metadata": {},
   "outputs": [
    {
     "name": "stdout",
     "output_type": "stream",
     "text": [
      "Cleaned Song Format:\n",
      "\n",
      "|A,B,DEDEFD|DEFAABA2|fedccBAF|DEFDGFED|A,B,DEDGFD|DEFAABA2|fedgcdAB|1AEFDGFED|2AEFDGABc|dDDDAFEA|dDDDdcBA|dAFGABAF|DEFDGABc|\n",
      "\n",
      "efedB2B2|efedB2B2|fgafA2d2|fgafA3z|b2gba2fa|g2egf3z|edefgfed|e2ff2g2z2|efedB2B2|efedB2B2|dcBAcBAG|FGAFD2EF|GFGABABd|edefg2e2|dcBABAGF|E3DEFE3z|\n",
      "\n",
      "A2ABA2dB|ADFABGE2|A2FABdAd|BdAGFDDB|ADFABdcB|A2FABEEF|G3ABdeg|fdecdBAB|d2fdedBd|egfedBAB|d2fdegfe|dBAGFDD2|d2fdedBd|egfedBAB|defga2ag|faegfdd2|\n",
      "\n"
     ]
    }
   ],
   "source": [
    "rand_songs = get_rand_songs(tunes_clean,50)\n",
    "# uncomment below to see the 'cleaned' representation of 3 random songs\n",
    "print(\"Cleaned Song Format:\\n\")\n",
    "for song in rand_songs[:3]:\n",
    "    print(song+'\\n')"
   ]
  },
  {
   "cell_type": "code",
   "execution_count": 16,
   "metadata": {},
   "outputs": [
    {
     "name": "stdout",
     "output_type": "stream",
     "text": [
      "Expanded Song Format:\n",
      "\n",
      "['ffffffffffffffff', 'eeBBBBBBeeBBddBB', 'AAAAGGAABBddddgg', 'eeBBBBBBeeBBddBB', 'AABBGGAABBGGGGGG', 'eeBBBBBBeeBBddBB', 'AAAAGGAABBGGGGFF', 'GGGGBBddeeggddBB', 'AABBGGAABBGGGG', 'zzzzzzzzzzzzzzzz', 'ggbbaaggeeggddgg', 'bbggaaggeeaaaaaa', 'ggbbaaggeeggddBB', 'AABBGGAABBGGGGGG', 'ggbbaaggeeggddgg', 'bbggaaggeeaaaaaa', 'ggggffggeeggddBB', 'AABBGGAABBGGGG']\n",
      "\n",
      "['DDDDDDDDDDDDDDDD', 'AAFFA,A,A,A,AAAAGGFF', 'FFFF{GGFF}EEDDFFFF{GGFF}EEEE', 'DDDDddccBBBBBBAA', 'AAAADDEEFFFF{GGFF}EEEE', 'AAFFA,A,A,A,AAAAGGFF', '{GG}FFFF{GGFF}EEDD{GG}FFFF{GGFF}EEEE', 'DDDDBB{BBcc}AAAAAADDEE', 'FFFFEEDDDDDDDDDD', 'DDDDDDDDDDDDDDDD', 'ddddccddeeeeeecc', 'ddddccdd{FFGG}FFFFFFFF', 'ddddccddBBBB{BB}AABB', 'AAAADDEEFFFF{GGFF}EEEE', 'ddddccddeeeeeecc', 'ddddccddFFFFFFEE', 'DDDDBBAAAAAADDEE', 'FFFFEEDDDDDDDDDD', 'ddddccddeeeeeecc', 'ddddccdd{FFGG}FFFFFFFF', 'ddddccddBBBB{BB}AABB', 'AAAADDEEFFFF{GGFF}EEEE', 'AAFFA,A,A,A,AAAAGGFF', 'FFFFEEDDFFFF{GGFF}EEEE', 'DDDDBBAAAAAADDEE', 'FFFF{FF}EEDDDDDDDDDD', ']]]]]]]]]]]]]]]]']\n",
      "\n",
      "['AAAAAABBAAAAddBB', 'AADDFFAABBGGEEEE', 'AAAAFFAABBddAAdd', 'BBddAAGGFFDDDDBB', 'AADDFFAABBddccBB', 'AAAAFFAABBEEEEFF', 'GGGGGGAABBddeegg', 'ffddeeccddBBAABB', 'ddddffddeeddBBdd', 'eeggffeeddBBAABB', 'ddddffddeeggffee', 'ddBBAAGGFFDDDDDD', 'ddddffddeeddBBdd', 'eeggffeeddBBAABB', 'ddeeffggaaaaaagg', 'ffaaeeggffdddddd']\n",
      "\n"
     ]
    }
   ],
   "source": [
    "songs_clean = []\n",
    "for song in rand_songs:\n",
    "    song_split = split_by_bar(song)\n",
    "    bars = []\n",
    "    for bar in song_split:\n",
    "        bars.append(expand_bar(bar))\n",
    "    for bar in bars:\n",
    "        if (len(bar)) is not 16:\n",
    "            pass\n",
    "#             print(\"{}: {}\".format(len(bar),bar))\n",
    "    songs_clean.append(bars)\n",
    "    \n",
    "# uncomment below to see the format of 3 random songs after the bars have been 'expanded'\n",
    "print(\"Expanded Song Format:\\n\")\n",
    "for n in range(3):\n",
    "    print(\"{}\\n\".format(random.choice(songs_clean)))"
   ]
  },
  {
   "cell_type": "code",
   "execution_count": 17,
   "metadata": {},
   "outputs": [],
   "source": [
    "def abc_to_notelist(abc):\n",
    "    result = []\n",
    "    bars = split_by_bar(abc)\n",
    "    for bar in bars:\n",
    "        result.append(expand_bar(bar))\n",
    "    return result"
   ]
  },
  {
   "cell_type": "code",
   "execution_count": 18,
   "metadata": {},
   "outputs": [],
   "source": [
    "tunes_vectorized = tunes_clean['abc'].apply(abc_to_notelist)"
   ]
  },
  {
   "cell_type": "code",
   "execution_count": 19,
   "metadata": {},
   "outputs": [],
   "source": [
    "notes = {\n",
    "    'C' : 60,\n",
    "    'D' : 61,\n",
    "    'E' : 62,\n",
    "    'F' : 63,\n",
    "    'G' : 64,\n",
    "    'A' : 65,\n",
    "    'B' : 66,\n",
    "    'c' : 67,\n",
    "    'd' : 68,\n",
    "    'e' : 69,\n",
    "    'f' : 70,\n",
    "    'g' : 71,\n",
    "    'a' : 72,\n",
    "    'b' : 73\n",
    "}\n",
    "\n",
    "def abc_to_nums(abc):\n",
    "    \"\"\"\n",
    "    Converts a single bar to note numbers\n",
    "    \"\"\"\n",
    "    nums = []\n",
    "    for letter in abc:\n",
    "        if letter in notes:\n",
    "            nums.append(notes[letter])\n",
    "        elif len(nums)==0:\n",
    "            continue\n",
    "        elif letter is \"'\":\n",
    "            nums[-1]+=7\n",
    "        elif letter is \",\":\n",
    "            nums[-1]-=7     \n",
    "    return np.asarray(nums)"
   ]
  },
  {
   "cell_type": "code",
   "execution_count": 20,
   "metadata": {},
   "outputs": [],
   "source": [
    "# takes a random sample of the songs and rejects if if it's not of size (n>16,16)\n",
    "while(True):\n",
    "    song_sample = tunes_vectorized.sample(1).iloc[0]\n",
    "#     print(song_sample)\n",
    "    song_nums = []\n",
    "    for bar in song_sample:\n",
    "        song_nums.append(abc_to_nums(bar))\n",
    "    song_nums = np.asarray(song_nums)\n",
    "    if song_nums.shape[0]<16:\n",
    "        continue\n",
    "    if len(song_nums.shape)==2 and song_nums.shape[1]==16:\n",
    "        break\n",
    "# restrict to first 16 bars\n",
    "song_nums = song_nums[:16]"
   ]
  },
  {
   "cell_type": "code",
   "execution_count": 21,
   "metadata": {},
   "outputs": [],
   "source": [
    "def print_img_by_bars(songs, numcols=3):\n",
    "    \"\"\"\n",
    "    Takes an array of arrays of size 16,16 and plots it in 3 configurations\n",
    "    \"\"\"\n",
    "    f, axs = plt.subplots(len(songs),numcols,figsize=(10,len(songs)*2))\n",
    "    plt.tight_layout()\n",
    "    for num, song in enumerate(songs):\n",
    "        img = song[:16]\n",
    "        index = num*numcols+1\n",
    "        plt.subplot(len(songs), 3, index)\n",
    "        plt.axis('off')\n",
    "        plt.title(\"1 bar per line\", fontsize=10)\n",
    "        plt.matshow(img, cmap='gray', interpolation='nearest', fignum=0, aspect=\"auto\")\n",
    "        plt.subplot(len(songs), 3, index+1)\n",
    "        plt.axis('off')\n",
    "        plt.title(\"2 bars per line\", fontsize=10)\n",
    "        plt.matshow(img.reshape(8,32), cmap='gray', interpolation='nearest', fignum=0, aspect=\"auto\")\n",
    "        plt.subplot(len(songs), 3, index+2)\n",
    "        plt.axis('off')\n",
    "        plt.title(\"4 bars per line\", fontsize=10)\n",
    "        plt.matshow(img.reshape(4,64), cmap='gray', interpolation='nearest', fignum=0, aspect=\"auto\")\n"
   ]
  },
  {
   "cell_type": "markdown",
   "metadata": {},
   "source": [
    "<h3>Let's take some random samples and plot the results</h3>\n",
    "Note: sample size is not the final size of the visualized output. Any songs with fewer than 16 bars or with a single bar of a size other than 16 are rejected."
   ]
  },
  {
   "cell_type": "code",
   "execution_count": 22,
   "metadata": {},
   "outputs": [],
   "source": [
    "song_samples = tunes_vectorized.sample(50)\n",
    "songs_as_nums = []\n",
    "for song in tunes_vectorized:\n",
    "    numsong = []\n",
    "    for bar in song:\n",
    "        numsong.append(abc_to_nums(bar))\n",
    "    numsong = np.asarray(numsong)\n",
    "    if numsong.shape[0]<16:\n",
    "        continue\n",
    "    elif len(numsong.shape)==2 and numsong.shape[1]==16:\n",
    "        songs_as_nums.append(numsong)\n",
    "songs_as_nums = np.asarray(songs_as_nums)"
   ]
  },
  {
   "cell_type": "code",
   "execution_count": 23,
   "metadata": {},
   "outputs": [],
   "source": [
    "# uncomment to save all the songs to disk.\n",
    "# songs_as_nums = []\n",
    "# for song in tunes_vectorized:\n",
    "#     numsong = []\n",
    "#     for bar in song:\n",
    "#         numsong.append(abc_to_nums(bar))\n",
    "#     numsong = np.asarray(numsong)\n",
    "#     if numsong.shape[0]<16:\n",
    "#         continue\n",
    "#     elif len(numsong.shape)==2 and numsong.shape[1]==16:\n",
    "#         songs_as_nums.append(numsong)\n",
    "# songs_as_nums = np.asarray(songs_as_nums)\n",
    "# np.save('vectorized_songs',songs_as_nums)\n"
   ]
  },
  {
   "cell_type": "code",
   "execution_count": 24,
   "metadata": {},
   "outputs": [
    {
     "name": "stdout",
     "output_type": "stream",
     "text": [
      "Vectorized Song Format:\n",
      "\n",
      "[[60 60 62 62 62 62 62 62 64 64 65 65 64 64 62 62]\n",
      " [61 61 68 68 68 68 67 67 68 68 68 68 67 67 65 65]\n",
      " [64 64 67 67 62 62 67 67 64 64 65 65 67 67 72 72]\n",
      " [71 71 69 69 68 68 71 71 69 69 67 67 67 67 67 67]\n",
      " [60 60 60 60 60 60 62 62 64 64 65 65 64 64 62 62]\n",
      " [61 61 68 68 68 68 67 67 68 68 67 67 65 65 67 67]\n",
      " [64 64 67 67 62 62 67 67 64 64 65 65 67 67 72 72]\n",
      " [71 71 69 69 68 68 71 71 69 69 67 67 67 67 66 66]\n",
      " [67 67 67 67 69 69 67 67 71 71 67 67 69 69 67 67]\n",
      " [67 67 68 68 69 69 72 72 71 71 69 69 68 68 69 69]\n",
      " [67 67 67 67 69 69 67 67 71 71 67 67 69 69 67 67]\n",
      " [64 64 65 65 67 67 71 71 69 69 67 67 67 67 66 66]\n",
      " [67 67 67 67 69 69 67 67 71 71 67 67 69 69 67 67]\n",
      " [67 67 68 68 69 69 72 72 71 71 69 69 68 68 71 71]\n",
      " [67 67 68 68 67 67 65 65 64 64 65 65 67 67 72 72]\n",
      " [71 71 69 69 68 68 71 71 69 69 67 67 67 67 67 67]]\n",
      "\n",
      "[[62 62 65 65 65 65 64 64 65 65 65 65 65 65 66 66]\n",
      " [67 67 68 68 69 69 68 68 67 67 66 66 65 65 67 67]\n",
      " [66 66 64 64 64 64 64 64 68 68 64 64 64 64 64 64]\n",
      " [66 66 68 68 71 71 68 68 69 69 68 68 66 66 64 64]\n",
      " [62 62 65 65 65 65 64 64 65 65 65 65 65 65 66 66]\n",
      " [67 67 66 66 65 65 66 66 67 67 68 68 69 69 70 70]\n",
      " [71 71 73 73 72 72 70 70 71 71 69 69 68 68 66 66]\n",
      " [64 64 66 66 68 68 66 66 66 66 65 65 65 65 64 64]\n",
      " [64 64 66 66 68 68 66 66 66 66 65 65 65 65 68 68]\n",
      " [69 69 72 72 72 72 71 71 69 69 72 72 72 72 71 71]\n",
      " [69 69 68 68 69 69 70 70 71 71 72 72 73 73 71 71]\n",
      " [68 68 71 71 71 71 71 71 72 72 72 72 71 71 72 72]\n",
      " [73 73 71 71 72 72 70 70 71 71 69 69 68 68 71 71]\n",
      " [69 69 72 72 72 72 71 71 69 69 72 72 72 72 71 71]\n",
      " [69 69 68 68 69 69 70 70 71 71 72 72 73 73 72 72]\n",
      " [71 71 69 69 68 68 66 66 64 64 65 65 66 66 68 68]\n",
      " [71 71 69 69 68 68 66 66 66 66 65 65 65 65 68 68]\n",
      " [71 71 69 69 68 68 66 66 66 66 65 65 65 65 64 64]]\n",
      "\n",
      "[[66 66 64 64 64 64 64 64 66 66 68 68 67 67 65 65]\n",
      " [66 66 66 66 66 66 68 68 67 67 65 65 63 63 64 64]\n",
      " [65 65 64 64 64 64 63 63 64 64 66 66 68 68 71 71]\n",
      " [70 70 71 71 72 72 70 70 71 71 69 69 68 68 67 67]\n",
      " [66 66 64 64 64 64 64 64 66 66 68 68 67 67 65 65]\n",
      " [66 66 66 66 66 66 68 68 67 67 65 65 63 63 64 64]\n",
      " [65 65 64 64 64 64 63 63 64 64 66 66 68 68 71 71]\n",
      " [70 70 71 71 72 72 70 70 71 71 71 71 71 71 67 67]\n",
      " [70 70 71 71 72 72 70 70 71 71 70 70 71 71 72 72]\n",
      " [73 73 71 71 71 71 71 71 68 68 71 71 71 71 71 71]\n",
      " [70 70 68 68 67 67 65 65 63 63 64 64 65 65 67 67]\n",
      " [68 68 71 71 71 71 70 70 71 71 69 69 68 68 67 67]\n",
      " [68 68 71 71 70 70 72 72 71 71 70 70 71 71 72 72]\n",
      " [73 73 71 71 71 71 71 71 68 68 71 71 71 71 71 71]\n",
      " [70 70 68 68 67 67 65 65 63 63 64 64 65 65 67 67]\n",
      " [68 68 71 71 71 71 70 70 71 71 69 69 68 68 67 67]\n",
      " [68 68 71 71 70 70 72 72 71 71 71 71 71 71 72 72]\n",
      " [68 68 71 71 70 70 72 72 71 71 69 69 68 68 67 67]]\n",
      "\n"
     ]
    }
   ],
   "source": [
    "# uncomment to see the vector form of 3 random songs\n",
    "print(\"Vectorized Song Format:\\n\")\n",
    "for n in range(3):\n",
    "    print(\"{}\\n\".format(np.random.choice(songs_as_nums)))"
   ]
  },
  {
   "cell_type": "code",
   "execution_count": 25,
   "metadata": {},
   "outputs": [
    {
     "data": {
      "image/png": "[encoded data removed]",
      "text/plain": [
       "<matplotlib.figure.Figure at 0xc2cdb70>"
      ]
     },
     "metadata": {},
     "output_type": "display_data"
    }
   ],
   "source": [
    "print_img_by_bars(songs_as_nums[:20])\n",
    "# uncomment below to save as an image\n",
    "#plt.savefig('bars.png')"
   ]
  },
  {
   "cell_type": "code",
   "execution_count": null,
   "metadata": {},
   "outputs": [],
   "source": []
  }
 ],
 "metadata": {
  "kernelspec": {
   "display_name": "Python 3",
   "language": "python",
   "name": "python3"
  },
  "language_info": {
   "codemirror_mode": {
    "name": "ipython",
    "version": 3
   },
   "file_extension": ".py",
   "mimetype": "text/x-python",
   "name": "python",
   "nbconvert_exporter": "python",
   "pygments_lexer": "ipython3",
   "version": "3.6.4"
  }
 },
 "nbformat": 4,
 "nbformat_minor": 2
}
